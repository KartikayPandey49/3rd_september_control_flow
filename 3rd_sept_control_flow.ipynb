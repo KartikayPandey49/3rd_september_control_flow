{
  "nbformat": 4,
  "nbformat_minor": 0,
  "metadata": {
    "colab": {
      "provenance": []
    },
    "kernelspec": {
      "name": "python3",
      "display_name": "Python 3"
    },
    "language_info": {
      "name": "python"
    }
  },
  "cells": [
    {
      "cell_type": "code",
      "execution_count": null,
      "metadata": {
        "id": "D_8hL_6c38tH"
      },
      "outputs": [],
      "source": [
        "# Basic If-Else Statements:"
      ]
    },
    {
      "cell_type": "code",
      "source": [
        "# 1. Write a Python program to check if a given number is positive or negative.\n",
        "\n",
        "# take a input.\n",
        "\n",
        "num = int(input(\"Enter a number: \"))\n",
        "#check the number is positive or not.\n",
        "\n",
        "if num >= 0:\n",
        "  print(\"Given number is Positive.\")\n",
        "else:\n",
        "  print(\"Given number is negative.\")"
      ],
      "metadata": {
        "colab": {
          "base_uri": "https://localhost:8080/"
        },
        "id": "fE3Fw9dn4w-J",
        "outputId": "66d529f7-dd69-49c7-904b-6f49a92fcb97"
      },
      "execution_count": null,
      "outputs": [
        {
          "output_type": "stream",
          "name": "stdout",
          "text": [
            "Enter a number: -5\n",
            "Given number is negative.\n"
          ]
        }
      ]
    },
    {
      "cell_type": "code",
      "source": [
        "# 2. Create a program that determines if a person is eligible to vote based on their age.\n",
        "\n",
        "eligible_age = int(input(\"Enter the age of voter: \"))\n",
        "\n",
        "#check whwther person is eligible or not.\n",
        "if eligible_age >= 18:\n",
        "  print(\"Person is eligible to vote.\")\n",
        "else:\n",
        "  print(\"Person is not eligible to vote.\")"
      ],
      "metadata": {
        "colab": {
          "base_uri": "https://localhost:8080/"
        },
        "id": "umSpcWTA5WzI",
        "outputId": "d25b5080-72b1-47b4-978a-1926dda7624f"
      },
      "execution_count": null,
      "outputs": [
        {
          "output_type": "stream",
          "name": "stdout",
          "text": [
            "Enter the age of voter: 17\n",
            "Person is not eligible to vote.\n"
          ]
        }
      ]
    },
    {
      "cell_type": "code",
      "source": [
        "# 3. Develop a program to find the maximum of two numbers using if-else statements.\n",
        "\n",
        "a = int(input(\"Enter the first number\"))\n",
        "b = int(input(\"Enter the second number\"))\n",
        "\n",
        "#check which number is greater.\n",
        "\n",
        "if a > b:\n",
        "  print(f\"{a} is greater than {b}\")\n",
        "elif a == b:\n",
        "  print(f\"{a} is equal to {b}\")\n",
        "else:\n",
        "  print(f\"{b} is greater than {a}\")"
      ],
      "metadata": {
        "colab": {
          "base_uri": "https://localhost:8080/"
        },
        "id": "1yz78peB6ETh",
        "outputId": "c478d5e2-266b-4ab8-c461-3361c2776c86"
      },
      "execution_count": null,
      "outputs": [
        {
          "output_type": "stream",
          "name": "stdout",
          "text": [
            "Enter the first number56\n",
            "Enter the second number22\n",
            "56 is greater than 22\n"
          ]
        }
      ]
    },
    {
      "cell_type": "code",
      "source": [
        "# 4. Write a Python script to classify a given year as a leap year or not.\n",
        "\n",
        "# Get input from the user\n",
        "year= int(input(\"Enter a year: \"))\n",
        "\n",
        "# Check for leap year\n",
        "if (year % 4 == 0 and year % 100 != 0) or (year % 400 == 0):\n",
        "  print(f\"{year} is a leap year.\")\n",
        "else:\n",
        "  print(f\"{year} is not a leap year.\")"
      ],
      "metadata": {
        "colab": {
          "base_uri": "https://localhost:8080/"
        },
        "id": "0JwDvOe-7HcI",
        "outputId": "7ac56fd1-4ed1-4f00-de77-efe402a69d92"
      },
      "execution_count": null,
      "outputs": [
        {
          "output_type": "stream",
          "name": "stdout",
          "text": [
            "Enter a year: 2020\n",
            "2020 is a leap year.\n"
          ]
        }
      ]
    },
    {
      "cell_type": "code",
      "source": [
        "# 5. Create a program that checks whether a character is a vowel or a consonant\n",
        "\n",
        "# Get input from the user\n",
        "char = input(\"Enter a character: \")\n",
        "\n",
        "# Ensure that a single character is entered\n",
        "if len(char) == 1:\n",
        "    # Check if the character is a vowel or a consonant\n",
        "    if char.lower() in ['a', 'e', 'i', 'o', 'u']:\n",
        "        print(f\"{char} is a vowel.\")\n",
        "    else:\n",
        "        print(f\"{char} is a consonant.\")\n",
        "else:\n",
        "    print(\"Please enter a single character.\")"
      ],
      "metadata": {
        "colab": {
          "base_uri": "https://localhost:8080/"
        },
        "id": "1Kek7hl57xdN",
        "outputId": "2cf587fb-62a9-4d69-fc9c-defe6ab3714a"
      },
      "execution_count": null,
      "outputs": [
        {
          "output_type": "stream",
          "name": "stdout",
          "text": [
            "Enter a character: v\n",
            "v is a consonant.\n"
          ]
        }
      ]
    },
    {
      "cell_type": "code",
      "source": [
        "# 6. Implement a program to determine whether a given number is even or odd.\n",
        "\n",
        "# Get input from user.\n",
        "\n",
        "num = int(input(\"Enter a number: \"))\n",
        "\n",
        "#check for odd and even.\n",
        "if num % 2 == 0:\n",
        "  print(f\"{num} is a even number.\")\n",
        "else:\n",
        "  print(f\"{num} is a odd number.\")\n"
      ],
      "metadata": {
        "colab": {
          "base_uri": "https://localhost:8080/"
        },
        "id": "aZPdHaSk9cs7",
        "outputId": "ecda98d3-4ef1-4330-ae8d-804556a84ff5"
      },
      "execution_count": null,
      "outputs": [
        {
          "output_type": "stream",
          "name": "stdout",
          "text": [
            "Enter a number: 67\n",
            "67 is a odd number.\n"
          ]
        }
      ]
    },
    {
      "cell_type": "code",
      "source": [
        "# 7. Write a Python function to calculate the absolute value of a number without using the `abs()` function.\n",
        "\n",
        "def calculate_absolute_value(number):\n",
        "    if number < 0:\n",
        "        return -number\n",
        "    else:\n",
        "        return number\n",
        "\n",
        "# Test the function\n",
        "num = float(input(\"Enter a number: \"))\n",
        "result = calculate_absolute_value(num)\n",
        "print(f\"The absolute value of {num} is {result}.\")"
      ],
      "metadata": {
        "colab": {
          "base_uri": "https://localhost:8080/"
        },
        "id": "ECFGBumB-FWH",
        "outputId": "cc5789bf-74f3-4102-aa02-d81e8b688067"
      },
      "execution_count": null,
      "outputs": [
        {
          "output_type": "stream",
          "name": "stdout",
          "text": [
            "Enter a number: -24.34\n",
            "The absolute value of -24.34 is 24.34.\n"
          ]
        }
      ]
    },
    {
      "cell_type": "code",
      "source": [
        "# 8. Develop a program that determines the largest of three given numbers using if-else statements\n",
        "\n",
        "a = int(input(\"Enter the value: \"))\n",
        "b = int(input(\"Enter the second value: \"))\n",
        "c = int(input(\"Enter the third value: \"))\n",
        "\n",
        "if a > b and a > c:\n",
        "  print(f\"{a} is greater then {b} and {c}\")\n",
        "elif b > a and b > c:\n",
        "   print(f\"{b} is greater then {a} and {c}\")\n",
        "else:\n",
        "   print(f\"{c} is greater then {a} and {b}\")\n"
      ],
      "metadata": {
        "colab": {
          "base_uri": "https://localhost:8080/"
        },
        "id": "TzFPTiYd-tba",
        "outputId": "25d9c9b2-9b74-4374-f21f-36946b9a3786"
      },
      "execution_count": null,
      "outputs": [
        {
          "output_type": "stream",
          "name": "stdout",
          "text": [
            "Enter the value: 34\n",
            "Enter the second value: 23\n",
            "Enter the third value: 42\n",
            "42 is greater then 34 and 23\n"
          ]
        }
      ]
    },
    {
      "cell_type": "code",
      "source": [
        "# 9. Create a program that checks if a given string is a palindrome.\n",
        "\n",
        "x = \"malayalam\"\n",
        "\n",
        "w = \"\"\n",
        "for i in x:\n",
        "    w = i + w\n",
        "\n",
        "if (x == w):\n",
        "    print(\"Yes\")\n",
        "else:\n",
        "    print(\"No\")"
      ],
      "metadata": {
        "colab": {
          "base_uri": "https://localhost:8080/"
        },
        "id": "qetaZ0_yATzp",
        "outputId": "9226fe04-8486-4ad2-ee0c-e735385a4478"
      },
      "execution_count": null,
      "outputs": [
        {
          "output_type": "stream",
          "name": "stdout",
          "text": [
            "Yes\n"
          ]
        }
      ]
    },
    {
      "cell_type": "code",
      "source": [
        "# 10. Write a Python program to calculate the grade based on a student's score.\n",
        "\n",
        "student_score = int(input(\"Enter the student's score\"))\n",
        "\n",
        "#check for grade\n",
        "\n",
        "if student_score >= 90:\n",
        "  print(\"Grade of this student is A+ \")\n",
        "elif student_score >= 80:\n",
        "  print(\"Grade of this student is A \")\n",
        "elif student_score >= 70:\n",
        "  print(\"Grade of this student is B+ \")\n",
        "elif student_score >= 60:\n",
        "  print(\"Grade of this student is B \")\n",
        "elif student_score >= 50:\n",
        "  print(\"Grade of this student is C \")\n",
        "elif student_score < 50:\n",
        "  print(\"Grades are nothing, Hard work is important, take a chill pill and dont think much, you are far better than your grades.\")\n",
        "elif student_score > 100 and student_score < 0:\n",
        "  print(\"INVALID INPUT!!!!!!!!!!!!!!!!!!!!!!!!!!!!!!!!!!!!!!!!!!!!!\")\n"
      ],
      "metadata": {
        "colab": {
          "base_uri": "https://localhost:8080/"
        },
        "id": "Tg3ylkyrCjyG",
        "outputId": "71f3d16f-822f-4a53-cd0d-64678eb15501"
      },
      "execution_count": null,
      "outputs": [
        {
          "output_type": "stream",
          "name": "stdout",
          "text": [
            "Enter the student's score55\n",
            "Grade of this student is C \n"
          ]
        }
      ]
    },
    {
      "cell_type": "code",
      "source": [
        "# Nested If-Else Statements:"
      ],
      "metadata": {
        "id": "py2InwVkEdTc"
      },
      "execution_count": null,
      "outputs": []
    },
    {
      "cell_type": "code",
      "source": [
        "# 11. Write a program to find the largest among three numbers using nested if-else statements\n",
        "\n",
        "# Get input from the user\n",
        "a = float(input(\"Enter the first number: \"))\n",
        "b = float(input(\"Enter the second number: \"))\n",
        "c = float(input(\"Enter the third number: \"))\n",
        "\n",
        "# Compare the numbers to find the largest using nested if-else statements\n",
        "if a >= b:\n",
        "    if a >= c:\n",
        "        largest = a\n",
        "    else:\n",
        "        largest = c\n",
        "else:\n",
        "    if b >= c:\n",
        "        largest = b\n",
        "    else:\n",
        "        largest = c\n",
        "\n",
        "# Print the result\n",
        "print(f\"The largest number among {a}, {b}, and {c} is {largest}.\")\n"
      ],
      "metadata": {
        "colab": {
          "base_uri": "https://localhost:8080/"
        },
        "id": "pVzrTHRBEzsU",
        "outputId": "5b45fa05-449c-41a4-9aab-425a795b8674"
      },
      "execution_count": null,
      "outputs": [
        {
          "output_type": "stream",
          "name": "stdout",
          "text": [
            "Enter the first number: 22\n",
            "Enter the second number: 33\n",
            "Enter the third number: 25\n",
            "The largest number among 22.0, 33.0, and 25.0 is 33.0.\n"
          ]
        }
      ]
    },
    {
      "cell_type": "code",
      "source": [
        "# 12. Implement a program to determine if a triangle is equilateral, isosceles, or scalene.\n",
        "\n",
        "# Get input from the user\n",
        "side1 = float(input(\"Enter the length of the first side: \"))\n",
        "side2 = float(input(\"Enter the length of the second side: \"))\n",
        "side3 = float(input(\"Enter the length of the third side: \"))\n",
        "\n",
        "# Check if the input forms a valid triangle\n",
        "if side1 + side2 > side3 and side1 + side3 > side2 and side2 + side3 > side1:\n",
        "    # Determine the type of triangle\n",
        "    if side1 == side2 == side3:\n",
        "        triangle_type = \"equilateral\"\n",
        "    elif side1 == side2 or side1 == side3 or side2 == side3:\n",
        "        triangle_type = \"isosceles\"\n",
        "    else:\n",
        "        triangle_type = \"scalene\"\n",
        "\n",
        "    # Print the result\n",
        "    print(f\"The given sides form a {triangle_type} triangle.\")\n",
        "else:\n",
        "    print(\"The given sides do not form a valid triangle.\")\n"
      ],
      "metadata": {
        "id": "Np8E6rJUGR38",
        "colab": {
          "base_uri": "https://localhost:8080/"
        },
        "outputId": "57689ec4-9b4d-4ae7-8966-c34f0a36f418"
      },
      "execution_count": null,
      "outputs": [
        {
          "output_type": "stream",
          "name": "stdout",
          "text": [
            "Enter the length of the first side: 3\n",
            "Enter the length of the second side: 4\n",
            "Enter the length of the third side: 5\n",
            "The given sides form a scalene triangle.\n"
          ]
        }
      ]
    },
    {
      "cell_type": "code",
      "source": [
        "# 13. Develop a program that checks if a year is a leap year and also if it is a century year.\n",
        "\n",
        "# Get input from the user\n",
        "year = int(input(\"Enter a year: \"))\n",
        "\n",
        "# Check if it's a leap year\n",
        "if (year % 4 == 0 and year % 100 != 0) or (year % 400 == 0):\n",
        "    print(f\"{year} is a leap year.\")\n",
        "\n",
        "    # Check if it's a century year\n",
        "    if year % 100 == 0:\n",
        "        print(f\"{year} is also a century year.\")\n",
        "    else:\n",
        "        print(f\"{year} is not a century year.\")\n",
        "else:\n",
        "    print(f\"{year} is not a leap year.\")\n"
      ],
      "metadata": {
        "colab": {
          "base_uri": "https://localhost:8080/"
        },
        "id": "mBtPMAWDNTwp",
        "outputId": "9b29494a-ad31-4c58-f093-9436a0787a89"
      },
      "execution_count": null,
      "outputs": [
        {
          "output_type": "stream",
          "name": "stdout",
          "text": [
            "Enter a year: 2000\n",
            "2000 is a leap year.\n",
            "2000 is also a century year.\n"
          ]
        }
      ]
    },
    {
      "cell_type": "code",
      "source": [
        "# 14. Write a Python script to determine if a number is positive, negative, or zero\n",
        "\n",
        "# Get input from the user\n",
        "number = float(input(\"Enter a number: \"))\n",
        "\n",
        "# Check if the number is positive, negative, or zero\n",
        "if number > 0:\n",
        "    print(f\"{number} is a positive number.\")\n",
        "elif number < 0:\n",
        "    print(f\"{number} is a negative number.\")\n",
        "else:\n",
        "    print(\"The number is zero.\")\n"
      ],
      "metadata": {
        "colab": {
          "base_uri": "https://localhost:8080/"
        },
        "id": "ZdgPP6v_N6OH",
        "outputId": "fd670e7a-65ae-4406-e6d0-43fdd2638a39"
      },
      "execution_count": null,
      "outputs": [
        {
          "output_type": "stream",
          "name": "stdout",
          "text": [
            "Enter a number: 4\n",
            "4.0 is a positive number.\n"
          ]
        }
      ]
    },
    {
      "cell_type": "code",
      "source": [
        "# 15. Create a program to check if a person is a teenager (between 13 and 19 years old).\n",
        "\n",
        "age = int(input(\"Enter the age of a person: \"))\n",
        "\n",
        "if age >= 13 and age <= 19:\n",
        "  print(\"Person is teenager.\")\n",
        "else:\n",
        "  print(\"Person is not a teenager.\")"
      ],
      "metadata": {
        "colab": {
          "base_uri": "https://localhost:8080/"
        },
        "id": "OYOml-5qOQlH",
        "outputId": "46123da5-f987-4f52-deaa-1d6dae7cf051"
      },
      "execution_count": null,
      "outputs": [
        {
          "output_type": "stream",
          "name": "stdout",
          "text": [
            "Enter the age of a person: 15\n",
            "Person is teenager.\n"
          ]
        }
      ]
    },
    {
      "cell_type": "code",
      "source": [
        "# 16. Develop a program that determines the type of angle based on its measure (acute, obtuse, or right).\n",
        "\n",
        "angle = int(input(\"Enter the measure of angle: \"))\n",
        "\n",
        "if angle > 0 and angle < 180:\n",
        "  if angle > 0 and angle < 90:\n",
        "    print(\"It is an acute angle.\")\n",
        "  elif angle > 90 and angle < 180:\n",
        "    print(\"It is an obtuse angle.\")\n",
        "  elif angle == 90:\n",
        "    print(\"It is a right angle.\")\n",
        "else:\n",
        "  print(\"Given measure of an angle is not valid.\")"
      ],
      "metadata": {
        "colab": {
          "base_uri": "https://localhost:8080/"
        },
        "id": "a4OKsn5UO0ZO",
        "outputId": "239b2f56-8083-4eb4-b67e-6bc7f908c314"
      },
      "execution_count": null,
      "outputs": [
        {
          "output_type": "stream",
          "name": "stdout",
          "text": [
            "Enter the measure of angle: 112\n",
            "It is an obtuse angle.\n"
          ]
        }
      ]
    },
    {
      "cell_type": "code",
      "source": [
        "# 17. Write a Python program to calculate the roots of a quadratic equation.\n",
        "\n",
        "import cmath  # Importing cmath for handling complex numbers\n",
        "\n",
        "# Get input coefficients from the user\n",
        "a = float(input(\"Enter the coefficient a: \"))\n",
        "b = float(input(\"Enter the coefficient b: \"))\n",
        "c = float(input(\"Enter the coefficient c: \"))\n",
        "\n",
        "# Calculate the discriminant\n",
        "discriminant = cmath.sqrt(b**2 - 4*a*c)\n",
        "\n",
        "# Calculate the roots using the quadratic formula\n",
        "root1 = (-b + discriminant) / (2*a)\n",
        "root2 = (-b - discriminant) / (2*a)\n",
        "\n",
        "# Print the roots\n",
        "print(f\"The roots of the quadratic equation are:\")\n",
        "print(f\"Root 1: {root1}\")\n",
        "print(f\"Root 2: {root2}\")\n"
      ],
      "metadata": {
        "colab": {
          "base_uri": "https://localhost:8080/"
        },
        "id": "mzHUsbapQe4w",
        "outputId": "eddb615c-71b1-496c-aa70-f877a2db8331"
      },
      "execution_count": null,
      "outputs": [
        {
          "output_type": "stream",
          "name": "stdout",
          "text": [
            "Enter the coefficient a: 1\n",
            "Enter the coefficient b: 2\n",
            "Enter the coefficient c: 1\n",
            "The roots of the quadratic equation are:\n",
            "Root 1: (-1+0j)\n",
            "Root 2: (-1+0j)\n"
          ]
        }
      ]
    },
    {
      "cell_type": "code",
      "source": [
        "# 18. Implement a program to determine the day of the week based on a user-provided number (1 for Monday, 2\n",
        "# for Tuesday, etc.).\n",
        "\n",
        "# Get input from the user\n",
        "day_number = int(input(\"Enter a number (1 for Monday, 2 for Tuesday, etc.): \"))\n",
        "\n",
        "# Check the day of the week based on the user input\n",
        "if 1 <= day_number <= 7:\n",
        "    days_of_week = [\"Monday\", \"Tuesday\", \"Wednesday\", \"Thursday\", \"Friday\", \"Saturday\", \"Sunday\"]\n",
        "    day_of_week = days_of_week[day_number - 1]\n",
        "    print(f\"The day of the week for {day_number} is {day_of_week}.\")\n",
        "else:\n",
        "    print(\"Invalid input. Please enter a number between 1 and 7.\")\n"
      ],
      "metadata": {
        "colab": {
          "base_uri": "https://localhost:8080/"
        },
        "id": "bC6yV81wQ9ut",
        "outputId": "c6741cba-5526-49cb-ed28-3e633b3dfb3a"
      },
      "execution_count": null,
      "outputs": [
        {
          "output_type": "stream",
          "name": "stdout",
          "text": [
            "Enter a number (1 for Monday, 2 for Tuesday, etc.): 7\n",
            "The day of the week for 7 is Sunday.\n"
          ]
        }
      ]
    },
    {
      "cell_type": "code",
      "source": [
        "# 19. Create a program that determines if a year is a leap year and also if it is evenly divisible by 400.\n",
        "\n",
        "# Get input from the user\n",
        "year = int(input(\"Enter a year: \"))\n",
        "\n",
        "# Check if it's a leap year\n",
        "if (year % 4 == 0 and year % 100 != 0) or (year % 400 == 0):\n",
        "    print(f\"{year} is a leap year.\")\n",
        "\n",
        "    # Check if it is divisible by 400 or not\n",
        "    if year % 400 == 0:\n",
        "        print(f\"{year} is also a divisible by 400.\")\n",
        "    else:\n",
        "        print(f\"{year} is not a century year.\")\n",
        "else:\n",
        "    print(f\"{year} is not a leap year.\")"
      ],
      "metadata": {
        "colab": {
          "base_uri": "https://localhost:8080/"
        },
        "id": "wCv_bvciR3WQ",
        "outputId": "b44d979e-1513-4470-a961-92fe582f597c"
      },
      "execution_count": null,
      "outputs": [
        {
          "output_type": "stream",
          "name": "stdout",
          "text": [
            "Enter a year: 2000\n",
            "2000 is a leap year.\n",
            "2000 is also a divisible by 400.\n"
          ]
        }
      ]
    },
    {
      "cell_type": "code",
      "source": [
        "# 20. Develop a program that checks if a given number is prime or not using nested if-else statements\n",
        "\n",
        "# Get input from the user\n",
        "number = int(input(\"Enter a number: \"))\n",
        "\n",
        "# Check if the number is greater than 1\n",
        "if number > 1:\n",
        "    # Check for factors\n",
        "    for i in range(2, int(number**0.5) + 1):\n",
        "        if number % i == 0:\n",
        "            print(f\"{number} is not a prime number.\")\n",
        "            break\n",
        "    else:\n",
        "        print(f\"{number} is a prime number.\")\n",
        "else:\n",
        "    print(f\"{number} is not a prime number.\")\n"
      ],
      "metadata": {
        "colab": {
          "base_uri": "https://localhost:8080/"
        },
        "id": "sn6tTUl_SNhZ",
        "outputId": "80f58c70-ef93-4c89-ba98-336af2c2fabd"
      },
      "execution_count": null,
      "outputs": [
        {
          "output_type": "stream",
          "name": "stdout",
          "text": [
            "Enter a number: 56\n",
            "56 is not a prime number.\n"
          ]
        }
      ]
    },
    {
      "cell_type": "code",
      "source": [
        "# Elif Statements:"
      ],
      "metadata": {
        "id": "qKtP4UPiS1PM"
      },
      "execution_count": null,
      "outputs": []
    },
    {
      "cell_type": "code",
      "source": [
        "# 21. Write a Python program to assign grades based on different ranges of scores using elif statements.\n",
        "\n",
        "student_score = int(input(\"Enter the student's score: \"))\n",
        "\n",
        "#check for grade\n",
        "\n",
        "if student_score >= 90:\n",
        "  print(\"Grade of this student is A+ \")\n",
        "elif student_score >= 80:\n",
        "  print(\"Grade of this student is A \")\n",
        "elif student_score >= 70:\n",
        "  print(\"Grade of this student is B+ \")\n",
        "elif student_score >= 60:\n",
        "  print(\"Grade of this student is B \")\n",
        "elif student_score >= 50:\n",
        "  print(\"Grade of this student is C \")\n",
        "elif student_score < 50:\n",
        "  print(\"Grades are nothing, Hard work is important, take a chill pill and dont think much, you are far better than your grades.\")\n",
        "elif student_score > 100 and student_score < 0:\n",
        "  print(\"INVALID INPUT!!!!!!!!!!!!!!!!!!!!!!!!!!!!!!!!!!!!!!!!!!!!!\")"
      ],
      "metadata": {
        "colab": {
          "base_uri": "https://localhost:8080/"
        },
        "id": "eAU0m4yrTK5I",
        "outputId": "d4dcfc33-3b23-4460-da02-47921a0499bb"
      },
      "execution_count": null,
      "outputs": [
        {
          "output_type": "stream",
          "name": "stdout",
          "text": [
            "Enter the student's score: 85\n",
            "Grade of this student is A \n"
          ]
        }
      ]
    },
    {
      "cell_type": "code",
      "source": [
        "# 22. Implement a program to determine the type of a triangle based on its angles.\n",
        "\n",
        "# Get input from the user\n",
        "angle1 = float(input(\"Enter the first angle: \"))\n",
        "angle2 = float(input(\"Enter the second angle: \"))\n",
        "angle3 = float(input(\"Enter the third angle: \"))\n",
        "\n",
        "# Check if the angles form a valid triangle\n",
        "if angle1 + angle2 + angle3 == 180:\n",
        "    # Determine the type of triangle based on angles\n",
        "    if angle1 == angle2 == angle3:\n",
        "        triangle_type = \"equilateral\"\n",
        "    elif angle1 == angle2 or angle1 == angle3 or angle2 == angle3:\n",
        "        triangle_type = \"isosceles\"\n",
        "    else:\n",
        "        triangle_type = \"scalene\"\n",
        "\n",
        "    # Print the result\n",
        "    print(f\"The angles form a {triangle_type} triangle.\")\n",
        "else:\n",
        "    print(\"The angles do not form a valid triangle.\")\n"
      ],
      "metadata": {
        "colab": {
          "base_uri": "https://localhost:8080/"
        },
        "id": "HAuNxqNeozq4",
        "outputId": "2eb02b0c-f8a6-45b2-d84a-1e8489e5bccc"
      },
      "execution_count": null,
      "outputs": [
        {
          "output_type": "stream",
          "name": "stdout",
          "text": [
            "Enter the first angle: 60\n",
            "Enter the second angle: 60\n",
            "Enter the third angle: 60\n",
            "The angles form a equilateral triangle.\n"
          ]
        }
      ]
    },
    {
      "cell_type": "code",
      "source": [
        "# 23. Develop a program to categorize a given person's BMI into underweight, normal, overweight, or obese using\n",
        "# elif statements.\n",
        "\n",
        "# Get input from the user\n",
        "weight = float(input(\"Enter your weight in kilograms: \"))\n",
        "height = float(input(\"Enter your height in meters: \"))\n",
        "\n",
        "# Calculate BMI\n",
        "bmi = weight / (height ** 2)\n",
        "\n",
        "# Categorize BMI\n",
        "if bmi < 18.5:\n",
        "    category = \"Underweight\"\n",
        "elif 18.5 <= bmi < 25:\n",
        "    category = \"Normal\"\n",
        "elif 25 <= bmi < 30:\n",
        "    category = \"Overweight\"\n",
        "else:\n",
        "    category = \"Obese\"\n",
        "\n",
        "# Print the result\n",
        "print(f\"Your BMI is {bmi:.2f}, and you are categorized as {category}.\")\n"
      ],
      "metadata": {
        "colab": {
          "base_uri": "https://localhost:8080/"
        },
        "id": "kO0kFlvVqsNq",
        "outputId": "daf07ac3-63e5-440d-bebf-bf5bb8431339"
      },
      "execution_count": null,
      "outputs": [
        {
          "output_type": "stream",
          "name": "stdout",
          "text": [
            "Enter your weight in kilograms: 65\n",
            "Enter your height in meters: 1.71\n",
            "Your BMI is 22.23, and you are categorized as Normal.\n"
          ]
        }
      ]
    },
    {
      "cell_type": "code",
      "source": [
        "# 24. Create a program that determines whether a given number is positive, negative, or zero using elif\n",
        "# statements.\n",
        "\n",
        "# Get input from the user\n",
        "number = float(input(\"Enter a number: \"))\n",
        "\n",
        "# Check if the number is positive, negative, or zero\n",
        "if number > 0:\n",
        "    print(f\"{number} is a positive number.\")\n",
        "elif number < 0:\n",
        "    print(f\"{number} is a negative number.\")\n",
        "else:\n",
        "    print(\"The number is zero.\")\n"
      ],
      "metadata": {
        "colab": {
          "base_uri": "https://localhost:8080/"
        },
        "id": "kQ5BGhLZrEe2",
        "outputId": "fdb9fc37-23d1-457d-e765-a8dcb09c57a1"
      },
      "execution_count": null,
      "outputs": [
        {
          "output_type": "stream",
          "name": "stdout",
          "text": [
            "Enter a number: 0\n",
            "The number is zero.\n"
          ]
        }
      ]
    },
    {
      "cell_type": "code",
      "source": [
        "# 25. Write a Python script to determine the type of a character (uppercase, lowercase, or special) using elif\n",
        "# statements.\n",
        "\n",
        "# Get input from the user\n",
        "character = input(\"Enter a character: \")\n",
        "\n",
        "# Check the type of character using elif statements\n",
        "if character.isalpha():\n",
        "    if character.isupper():\n",
        "        print(f\"{character} is an uppercase letter.\")\n",
        "    elif character.islower():\n",
        "        print(f\"{character} is a lowercase letter.\")\n",
        "else:\n",
        "    print(f\"{character} is a special character.\")\n"
      ],
      "metadata": {
        "colab": {
          "base_uri": "https://localhost:8080/"
        },
        "id": "keymg4CJrgFV",
        "outputId": "55c7eb7e-63c8-4f34-e736-c64c5b751f55"
      },
      "execution_count": null,
      "outputs": [
        {
          "output_type": "stream",
          "name": "stdout",
          "text": [
            "Enter a character: &\n",
            "& is a special character.\n"
          ]
        }
      ]
    },
    {
      "cell_type": "code",
      "source": [
        "# 26. Implement a program to calculate the discounted price based on different purchase amounts using elif\n",
        "# statements\n",
        "\n",
        "# Get input from the user\n",
        "purchase_amount = float(input(\"Enter the purchase amount: \"))\n",
        "\n",
        "# Determine the discount based on purchase amount\n",
        "if purchase_amount < 50:\n",
        "    discount_percentage = 0\n",
        "elif 50 <= purchase_amount < 100:\n",
        "    discount_percentage = 5\n",
        "elif 100 <= purchase_amount < 200:\n",
        "    discount_percentage = 10\n",
        "else:\n",
        "    discount_percentage = 15\n",
        "\n",
        "# Calculate the discounted price\n",
        "discount = purchase_amount * (discount_percentage / 100)\n",
        "discounted_price = purchase_amount - discount\n",
        "\n",
        "# Print the result\n",
        "print(f\"Original Price: ${purchase_amount:.2f}\")\n",
        "print(f\"Discount Percentage: {discount_percentage}%\")\n",
        "print(f\"Discount: ${discount:.2f}\")\n",
        "print(f\"Discounted Price: ${discounted_price:.2f}\")\n"
      ],
      "metadata": {
        "colab": {
          "base_uri": "https://localhost:8080/"
        },
        "id": "4eDAuyufr34w",
        "outputId": "72749c0f-8ceb-4dea-b938-6fd048f25153"
      },
      "execution_count": null,
      "outputs": [
        {
          "output_type": "stream",
          "name": "stdout",
          "text": [
            "Enter the purchase amount: 155\n",
            "Original Price: $155.00\n",
            "Discount Percentage: 10%\n",
            "Discount: $15.50\n",
            "Discounted Price: $139.50\n"
          ]
        }
      ]
    },
    {
      "cell_type": "code",
      "source": [
        "# 27. Develop a program to calculate the electricity bill based on different consumption slabs using elif\n",
        "# statements.\n",
        "\n",
        "# Get input from the user\n",
        "units_consumed = float(input(\"Enter the units of electricity consumed: \"))\n",
        "\n",
        "# Determine the electricity bill based on consumption slabs\n",
        "if units_consumed <= 50:\n",
        "    bill = units_consumed * 0.50\n",
        "elif 51 <= units_consumed <= 150:\n",
        "    bill = 50 * 0.50 + (units_consumed - 50) * 0.75\n",
        "elif 151 <= units_consumed <= 300:\n",
        "    bill = 50 * 0.50 + 100 * 0.75 + (units_consumed - 150) * 1.20\n",
        "else:\n",
        "    bill = 50 * 0.50 + 100 * 0.75 + 150 * 1.20 + (units_consumed - 300) * 1.50\n",
        "\n",
        "# Print the result\n",
        "print(f\"Units Consumed: {units_consumed} kWh\")\n",
        "print(f\"Electricity Bill: ${bill:.2f}\")\n"
      ],
      "metadata": {
        "colab": {
          "base_uri": "https://localhost:8080/"
        },
        "id": "Rsvwk9vvsdju",
        "outputId": "cd17a63f-d5f5-4a9f-e007-07a0cf484c2a"
      },
      "execution_count": null,
      "outputs": [
        {
          "output_type": "stream",
          "name": "stdout",
          "text": [
            "Enter the units of electricity consumed: 56\n",
            "Units Consumed: 56.0 kWh\n",
            "Electricity Bill: $29.50\n"
          ]
        }
      ]
    },
    {
      "cell_type": "code",
      "source": [
        "# 28. Create a program to determine the type of quadrilateral based on its angles and sides using elif\n",
        "# statements.\n",
        "\n",
        "# Get input from the user\n",
        "angle1 = float(input(\"Enter the first angle: \"))\n",
        "angle2 = float(input(\"Enter the second angle: \"))\n",
        "angle3 = float(input(\"Enter the third angle: \"))\n",
        "angle4 = float(input(\"Enter the fourth angle: \"))\n",
        "\n",
        "side1 = float(input(\"Enter the length of the first side: \"))\n",
        "side2 = float(input(\"Enter the length of the second side: \"))\n",
        "side3 = float(input(\"Enter the length of the third side: \"))\n",
        "side4 = float(input(\"Enter the length of the fourth side: \"))\n",
        "\n",
        "# Check if the angles and sides form a valid quadrilateral\n",
        "if angle1 + angle2 + angle3 + angle4 == 360 and side1 + side2 + side3 + side4 > 0:\n",
        "    # Determine the type of quadrilateral based on angles and sides\n",
        "    if angle1 == angle2 == angle3 == angle4 == 90:\n",
        "        quadrilateral_type = \"Square\"\n",
        "    elif angle1 == angle3 and angle2 == angle4 and side1 == side3 and side2 == side4:\n",
        "        quadrilateral_type = \"Rectangle\"\n",
        "    elif angle1 == angle3 and angle2 == angle4 and side1 == side2 == side3 == side4:\n",
        "        quadrilateral_type = \"Rhombus\"\n",
        "    elif angle1 == angle3 and angle2 == angle4 and side1 == side2 and side3 == side4:\n",
        "        quadrilateral_type = \"Parallelogram\"\n",
        "    else:\n",
        "        quadrilateral_type = \"Quadrilateral\"\n",
        "\n",
        "    # Print the result\n",
        "    print(f\"The given angles and sides form a {quadrilateral_type}.\")\n",
        "else:\n",
        "    print(\"The given angles and sides do not form a valid quadrilateral.\")\n"
      ],
      "metadata": {
        "colab": {
          "base_uri": "https://localhost:8080/"
        },
        "id": "hsxkhKJ_vlT8",
        "outputId": "be713c4b-37ce-420a-a367-2d8ecd89d07b"
      },
      "execution_count": null,
      "outputs": [
        {
          "output_type": "stream",
          "name": "stdout",
          "text": [
            "Enter the first angle: 90\n",
            "Enter the second angle: 80\n",
            "Enter the third angle: 100\n",
            "Enter the fourth angle: 90\n",
            "Enter the length of the first side: 4\n",
            "Enter the length of the second side: 2\n",
            "Enter the length of the third side: 5\n",
            "Enter the length of the fourth side: 6\n",
            "The given angles and sides form a Quadrilateral.\n"
          ]
        }
      ]
    },
    {
      "cell_type": "code",
      "source": [
        "# 29. Write a Python script to determine the season based on a user-provided month using elif statements.\n",
        "\n",
        "# Get input from the user\n",
        "month = input(\"Enter a month (e.g., January, February, etc.): \")\n",
        "\n",
        "# Convert month to lowercase for case-insensitive comparison\n",
        "month = month.lower()\n",
        "\n",
        "# Determine the season based on the month\n",
        "if month in [\"december\", \"january\", \"february\"]:\n",
        "    season = \"Winter\"\n",
        "elif month in [\"march\", \"april\", \"may\"]:\n",
        "    season = \"Spring\"\n",
        "elif month in [\"june\", \"july\", \"august\"]:\n",
        "    season = \"Summer\"\n",
        "elif month in [\"september\", \"october\", \"november\"]:\n",
        "    season = \"Fall\"\n",
        "else:\n",
        "    season = \"Invalid month\"\n",
        "\n",
        "# Print the result\n",
        "print(f\"The season for {month.capitalize()} is {season}.\")\n"
      ],
      "metadata": {
        "colab": {
          "base_uri": "https://localhost:8080/"
        },
        "id": "LPAumbNfv8tg",
        "outputId": "7dc4db4c-ae1d-42bf-9c96-860150cf76ef"
      },
      "execution_count": null,
      "outputs": [
        {
          "output_type": "stream",
          "name": "stdout",
          "text": [
            "Enter a month (e.g., January, February, etc.): may\n",
            "The season for May is Spring.\n"
          ]
        }
      ]
    },
    {
      "cell_type": "code",
      "source": [
        "# 30. Implement a program to determine the type of a year (leap or common) and month (30 or 31 days) using\n",
        "# elif statements\n",
        "\n",
        "# Get input from the user\n",
        "year = int(input(\"Enter a year: \"))\n",
        "month = input(\"Enter a month (e.g., January, February, etc.): \")\n",
        "\n",
        "# Convert month to lowercase for case-insensitive comparison\n",
        "month = month.lower()\n",
        "\n",
        "# Determine if it's a leap year\n",
        "if (year % 4 == 0 and year % 100 != 0) or (year % 400 == 0):\n",
        "    year_type = \"Leap year\"\n",
        "else:\n",
        "    year_type = \"Common year\"\n",
        "\n",
        "# Determine the number of days in the month\n",
        "if month in [\"january\", \"march\", \"may\", \"july\", \"august\", \"october\", \"december\"]:\n",
        "    days_in_month = 31\n",
        "elif month in [\"april\", \"june\", \"september\", \"november\"]:\n",
        "    days_in_month = 30\n",
        "elif month == \"february\":\n",
        "    if year_type == \"Leap year\":\n",
        "        days_in_month = 29\n",
        "    else:\n",
        "        days_in_month = 28\n",
        "else:\n",
        "    days_in_month = \"Invalid month\"\n",
        "\n",
        "# Print the result\n",
        "print(f\"{year} is a {year_type}.\")\n",
        "print(f\"{month.capitalize()} has {days_in_month} days.\")\n"
      ],
      "metadata": {
        "colab": {
          "base_uri": "https://localhost:8080/"
        },
        "id": "oJtfdRxywa6Y",
        "outputId": "a6202bab-27ba-438a-bf3b-63e4f8a6649e"
      },
      "execution_count": null,
      "outputs": [
        {
          "output_type": "stream",
          "name": "stdout",
          "text": [
            "Enter a year: 2020\n",
            "Enter a month (e.g., January, February, etc.): march\n",
            "2020 is a Leap year.\n",
            "March has 31 days.\n"
          ]
        }
      ]
    },
    {
      "cell_type": "code",
      "source": [
        "#Basic level"
      ],
      "metadata": {
        "id": "reZZfpx7wvKM"
      },
      "execution_count": null,
      "outputs": []
    },
    {
      "cell_type": "code",
      "source": [
        "# 1. Write a Python program that checks if a given number is positive, negative, or zero.\n",
        "\n",
        "#Get input from the user.\n",
        "\n",
        "# 1. Write a Python program that checks if a given number is positive, negative, or zero.\n",
        "\n",
        "# Get input from the user\n",
        "number = float(input(\"Enter a number: \"))\n",
        "\n",
        "# Check if the number is positive, negative, or zero\n",
        "if number > 0:\n",
        "    print(f\"{number} is a positive number.\")\n",
        "elif number < 0:\n",
        "    print(f\"{number} is a negative number.\")\n",
        "else:\n",
        "    print(\"The number is zero.\")"
      ],
      "metadata": {
        "colab": {
          "base_uri": "https://localhost:8080/"
        },
        "id": "xqg5i0WExCbB",
        "outputId": "fb919cb2-b11e-45cc-be4c-f5a00654304a"
      },
      "execution_count": null,
      "outputs": [
        {
          "output_type": "stream",
          "name": "stdout",
          "text": [
            "Enter a number: 7\n",
            "7.0 is a positive number.\n"
          ]
        }
      ]
    },
    {
      "cell_type": "code",
      "source": [
        "# 2. Create a program to determine if a person is eligible to vote based on their age.\n",
        "\n",
        "eligible_age = int(input(\"Enter the age of voter: \"))\n",
        "\n",
        "#check whwther person is eligible or not.\n",
        "if eligible_age >= 18:\n",
        "  print(\"Person is eligible to vote.\")\n",
        "else:\n",
        "  print(\"Person is not eligible to vote.\")"
      ],
      "metadata": {
        "colab": {
          "base_uri": "https://localhost:8080/"
        },
        "id": "Cq_kjmthyB2k",
        "outputId": "eb72533a-be31-4c14-a410-9c626072eb45"
      },
      "execution_count": null,
      "outputs": [
        {
          "output_type": "stream",
          "name": "stdout",
          "text": [
            "Enter the age of voter: 21\n",
            "Person is eligible to vote.\n"
          ]
        }
      ]
    },
    {
      "cell_type": "code",
      "source": [
        "# 3. Write a program to find the maximum of two given numbers using conditional statements.\n",
        "\n",
        "# Get input from the user\n",
        "number1 = float(input(\"Enter the first number: \"))\n",
        "number2 = float(input(\"Enter the second number: \"))\n",
        "\n",
        "# Find the maximum using conditional statements\n",
        "if number1 > number2:    maximum = number1\n",
        "else:\n",
        "    maximum = number2\n",
        "\n",
        "# Print the result\n",
        "print(f\"The maximum of {number1} and {number2} is {maximum}.\")\n"
      ],
      "metadata": {
        "colab": {
          "base_uri": "https://localhost:8080/"
        },
        "id": "CE8noku-ydcw",
        "outputId": "4134c535-f7e1-49d9-97fa-94a355f4bb15"
      },
      "execution_count": null,
      "outputs": [
        {
          "output_type": "stream",
          "name": "stdout",
          "text": [
            "Enter the first number: 24\n",
            "Enter the second number: 45\n",
            "The maximum of 24.0 and 45.0 is 45.0.\n"
          ]
        }
      ]
    },
    {
      "cell_type": "code",
      "source": [
        "# 4. Develop a program that calculates the grade of a student based on their exam score.\n",
        "\n",
        "# Get input from the user\n",
        "exam_score = float(input(\"Enter the exam score: \"))\n",
        "\n",
        "# Calculate the grade based on the exam score\n",
        "if 90 <= exam_score <= 100:\n",
        "    grade = \"A\"\n",
        "elif 80 <= exam_score < 90:\n",
        "    grade = \"B\"\n",
        "elif 70 <= exam_score < 80:\n",
        "    grade = \"C\"\n",
        "elif 60 <= exam_score < 70:\n",
        "    grade = \"D\"\n",
        "elif 0 <= exam_score < 60:\n",
        "    grade = \"F\"\n",
        "else:\n",
        "    grade = \"Invalid score\"\n",
        "\n",
        "# Print the result\n",
        "if grade != \"Invalid score\":\n",
        "    print(f\"The student's grade for the exam is {grade}.\")\n",
        "else:\n",
        "    print(\"Invalid exam score. Please enter a score between 0 and 100.\")\n"
      ],
      "metadata": {
        "colab": {
          "base_uri": "https://localhost:8080/"
        },
        "id": "6_PmEqj4znk2",
        "outputId": "7959fc9c-c033-489b-f34b-e1abf8121201"
      },
      "execution_count": null,
      "outputs": [
        {
          "output_type": "stream",
          "name": "stdout",
          "text": [
            "Enter the exam score: 76\n",
            "The student's grade for the exam is C.\n"
          ]
        }
      ]
    },
    {
      "cell_type": "code",
      "source": [
        "# 5. Create a program that checks if a year is a leap year or not.\n",
        "\n",
        "# Get input from the user\n",
        "year = int(input(\"Enter a year: \"))\n",
        "\n",
        "# Check if it's a leap year\n",
        "if (year % 4 == 0 and year % 100 != 0) or (year % 400 == 0):\n",
        "    print(f\"{year} is a leap year.\")\n",
        "else:\n",
        "    print(f\"{year} is not a leap year.\")\n"
      ],
      "metadata": {
        "colab": {
          "base_uri": "https://localhost:8080/"
        },
        "id": "1Xgdxbzy0Igq",
        "outputId": "8c9b3690-9520-4ab0-e55a-f9404023608c"
      },
      "execution_count": null,
      "outputs": [
        {
          "output_type": "stream",
          "name": "stdout",
          "text": [
            "Enter a year: 2020\n",
            "2020 is a leap year.\n"
          ]
        }
      ]
    },
    {
      "cell_type": "code",
      "source": [
        "# 6. Write a program to classify a triangle based on its sides' lengths.\n",
        "\n",
        "# Get input from the user\n",
        "side1 = float(input(\"Enter the length of the first side: \"))\n",
        "side2 = float(input(\"Enter the length of the second side: \"))\n",
        "side3 = float(input(\"Enter the length of the third side: \"))\n",
        "\n",
        "# Classify the triangle based on side lengths\n",
        "if side1 == side2 == side3:\n",
        "    triangle_type = \"Equilateral\"\n",
        "elif side1 == side2 or side1 == side3 or side2 == side3:\n",
        "    triangle_type = \"Isosceles\"\n",
        "else:\n",
        "    triangle_type = \"Scalene\"\n",
        "\n",
        "# Print the result\n",
        "print(f\"The triangle with sides {side1}, {side2}, and {side3} is classified as {triangle_type}.\")\n"
      ],
      "metadata": {
        "colab": {
          "base_uri": "https://localhost:8080/"
        },
        "id": "SLAyqOsQ0Yyo",
        "outputId": "13bae1c3-d1a0-4eb9-aa46-c57157c51a10"
      },
      "execution_count": null,
      "outputs": [
        {
          "output_type": "stream",
          "name": "stdout",
          "text": [
            "Enter the length of the first side: 5\n",
            "Enter the length of the second side: 5\n",
            "Enter the length of the third side: 5\n",
            "The triangle with sides 5.0, 5.0, and 5.0 is classified as Equilateral.\n"
          ]
        }
      ]
    },
    {
      "cell_type": "code",
      "source": [
        "# 7. Build a program that determines the largest of three given numbers.\n",
        "\n",
        "# Get input from the user\n",
        "a = float(input(\"Enter the first number: \"))\n",
        "b = float(input(\"Enter the second number: \"))\n",
        "c = float(input(\"Enter the third number: \"))\n",
        "\n",
        "# Determine the largest number\n",
        "if a > b and a > c:\n",
        "    largest = a\n",
        "elif b > a and b > c:\n",
        "    largest = b\n",
        "else:\n",
        "    largest = c\n",
        "\n",
        "# Print the result\n",
        "print(f\"The largest number among {a}, {b}, and {c} is {largest}.\")\n"
      ],
      "metadata": {
        "colab": {
          "base_uri": "https://localhost:8080/"
        },
        "id": "u6wc1WqV08fw",
        "outputId": "b166e4a4-aaa9-4f9e-ace4-41e8607431e8"
      },
      "execution_count": null,
      "outputs": [
        {
          "output_type": "stream",
          "name": "stdout",
          "text": [
            "Enter the first number: 45\n",
            "Enter the second number: 34\n",
            "Enter the third number: 65\n",
            "The largest number among 45.0, 34.0, and 65.0 is 65.0.\n"
          ]
        }
      ]
    },
    {
      "cell_type": "code",
      "source": [
        "# 8. Develop a program that checks whether a character is a vowel or a consonant.\n",
        "\n",
        "# Get input from the user\n",
        "character = input(\"Enter a character: \")\n",
        "\n",
        "# Convert the input to lowercase for case-insensitive comparison\n",
        "character = character.lower()\n",
        "\n",
        "# Check if the input is a single alphabet character\n",
        "if len(character) == 1 and character.isalpha():\n",
        "    # Check if the character is a vowel or a consonant\n",
        "    if character in ['a', 'e', 'i', 'o', 'u']:\n",
        "        print(f\"{character} is a vowel.\")\n",
        "    else:\n",
        "        print(f\"{character} is a consonant.\")\n",
        "else:\n",
        "    print(\"Invalid input. Please enter a single alphabet character.\")\n"
      ],
      "metadata": {
        "colab": {
          "base_uri": "https://localhost:8080/"
        },
        "id": "q9LPZtdy1YRk",
        "outputId": "2c788ef7-7696-42dd-9d79-669184cb242c"
      },
      "execution_count": null,
      "outputs": [
        {
          "output_type": "stream",
          "name": "stdout",
          "text": [
            "Enter a character: y\n",
            "y is a consonant.\n"
          ]
        }
      ]
    },
    {
      "cell_type": "code",
      "source": [
        "# 9. Create a program to calculate the total cost of a shopping cart based on discounts\n",
        "\n",
        "# Get input from the user\n",
        "cart_total = float(input(\"Enter the total cost of the shopping cart: \"))\n",
        "discount_percentage = float(input(\"Enter the discount percentage: \"))\n",
        "\n",
        "# Check if the discount percentage is valid\n",
        "if 0 <= discount_percentage <= 100:\n",
        "    # Calculate the total cost with discounts\n",
        "    discount_amount = cart_total * (discount_percentage / 100)\n",
        "    total_cost = cart_total - discount_amount\n",
        "\n",
        "    # Print the result\n",
        "    print(f\"Original Cart Total: ${cart_total:.2f}\")\n",
        "    print(f\"Discount Percentage: {discount_percentage}%\")\n",
        "    print(f\"Discount Amount: ${discount_amount:.2f}\")\n",
        "    print(f\"Total Cost after Discount: ${total_cost:.2f}\")\n",
        "else:\n",
        "    print(\"Invalid discount percentage. Please enter a percentage between 0 and 100.\")\n"
      ],
      "metadata": {
        "colab": {
          "base_uri": "https://localhost:8080/"
        },
        "id": "WnDxztuu10sh",
        "outputId": "c610c993-7f41-46e5-bfef-4ed8580367fa"
      },
      "execution_count": null,
      "outputs": [
        {
          "output_type": "stream",
          "name": "stdout",
          "text": [
            "Enter the total cost of the shopping cart: 112\n",
            "Enter the discount percentage: 43\n",
            "Original Cart Total: $112.00\n",
            "Discount Percentage: 43.0%\n",
            "Discount Amount: $48.16\n",
            "Total Cost after Discount: $63.84\n"
          ]
        }
      ]
    },
    {
      "cell_type": "code",
      "source": [
        "# 10. Write a program that checks if a given number is even or odd.\n",
        "\n",
        "# Get input from the user\n",
        "number = int(input(\"Enter a number: \"))\n",
        "\n",
        "# Check if the number is even or odd\n",
        "if number % 2 == 0:\n",
        "    print(f\"{number} is an even number.\")\n",
        "else:\n",
        "    print(f\"{number} is an odd number.\")\n",
        "\n"
      ],
      "metadata": {
        "colab": {
          "base_uri": "https://localhost:8080/"
        },
        "id": "TYs0ArUo2JJK",
        "outputId": "206e13c6-4413-4f98-a3e4-d1e3c62e7913"
      },
      "execution_count": null,
      "outputs": [
        {
          "output_type": "stream",
          "name": "stdout",
          "text": [
            "Enter a number: 34\n",
            "34 is an even number.\n"
          ]
        }
      ]
    },
    {
      "cell_type": "code",
      "source": [
        "# 11. Write a program that calculates the roots of a quadratic equation .\n",
        "\n",
        "import math\n",
        "\n",
        "# Get input from the user\n",
        "a = float(input(\"Enter the coefficient a: \"))\n",
        "b = float(input(\"Enter the coefficient b: \"))\n",
        "c = float(input(\"Enter the coefficient c: \"))\n",
        "\n",
        "# Calculate the discriminant\n",
        "discriminant = b**2 - 4*a*c\n",
        "\n",
        "# Check if the roots are real or complex\n",
        "if discriminant >= 0:\n",
        "    # Calculate the roots\n",
        "    root1 = (-b + math.sqrt(discriminant)) / (2*a)\n",
        "    root2 = (-b - math.sqrt(discriminant)) / (2*a)\n",
        "\n",
        "    # Print the real roots\n",
        "    print(f\"The real roots of the quadratic equation are:\")\n",
        "    print(f\"Root 1: {root1}\")\n",
        "    print(f\"Root 2: {root2}\")\n",
        "else:\n",
        "    # Calculate the real and imaginary parts of complex roots\n",
        "    real_part = -b / (2*a)\n",
        "    imaginary_part = math.sqrt(abs(discriminant)) / (2*a)\n",
        "\n",
        "    # Print the complex roots\n",
        "    print(f\"The complex roots of the quadratic equation are:\")\n",
        "    print(f\"Root 1: {real_part} + {imaginary_part}i\")\n",
        "    print(f\"Root 2: {real_part} - {imaginary_part}i\")\n"
      ],
      "metadata": {
        "colab": {
          "base_uri": "https://localhost:8080/"
        },
        "id": "g_CrOFmp2pVV",
        "outputId": "2a0be6dd-514d-4a87-a888-6d9735aaa8db"
      },
      "execution_count": null,
      "outputs": [
        {
          "output_type": "stream",
          "name": "stdout",
          "text": [
            "Enter the coefficient a: 1\n",
            "Enter the coefficient b: 4\n",
            "Enter the coefficient c: 1\n",
            "The real roots of the quadratic equation are:\n",
            "Root 1: -0.2679491924311228\n",
            "Root 2: -3.732050807568877\n"
          ]
        }
      ]
    },
    {
      "cell_type": "code",
      "source": [
        "# 12. Create a program that determines the day of the week based on the day number (1-7).\n",
        "\n",
        "# Get input from the user\n",
        "day_number = int(input(\"Enter a number (1 for Monday, 2 for Tuesday, etc.): \"))\n",
        "\n",
        "# Check the day of the week based on the user input\n",
        "if 1 <= day_number <= 7:\n",
        "    days_of_week = [\"Monday\", \"Tuesday\", \"Wednesday\", \"Thursday\", \"Friday\", \"Saturday\", \"Sunday\"]\n",
        "    day_of_week = days_of_week[day_number - 1]\n",
        "    print(f\"The day of the week for {day_number} is {day_of_week}.\")\n",
        "else:\n",
        "    print(\"Invalid input. Please enter a number between 1 and 7.\")\n"
      ],
      "metadata": {
        "colab": {
          "base_uri": "https://localhost:8080/"
        },
        "id": "-WaRVMlt238L",
        "outputId": "5244abee-698f-4aab-937d-f83d9d506b70"
      },
      "execution_count": null,
      "outputs": [
        {
          "output_type": "stream",
          "name": "stdout",
          "text": [
            "Enter a number (1 for Monday, 2 for Tuesday, etc.): 3\n",
            "The day of the week for 3 is Wednesday.\n"
          ]
        }
      ]
    },
    {
      "cell_type": "code",
      "source": [
        "# 13. Develop a program that calculates the factorial of a given number using recursion.\n",
        "\n",
        "# Get input from the user\n",
        "number = int(input(\"Enter a number to calculate its factorial: \"))\n",
        "\n",
        "# Check if the number is non-negative\n",
        "if number < 0:\n",
        "    print(\"Factorial is undefined for negative numbers.\")\n",
        "else:\n",
        "    # Calculate the factorial without using a function\n",
        "    factorial_result = 1\n",
        "    for i in range(1, number + 1):\n",
        "        factorial_result *= i\n",
        "\n",
        "    # Print the result\n",
        "    print(f\"The factorial of {number} is: {factorial_result}\")\n"
      ],
      "metadata": {
        "colab": {
          "base_uri": "https://localhost:8080/"
        },
        "id": "vnh1vBO13S87",
        "outputId": "8e9cee97-c137-4d7a-a10b-96ea12995d16"
      },
      "execution_count": null,
      "outputs": [
        {
          "output_type": "stream",
          "name": "stdout",
          "text": [
            "Enter a number to calculate its factorial: 9\n",
            "The factorial of 9 is: 362880\n"
          ]
        }
      ]
    },
    {
      "cell_type": "code",
      "source": [
        "# 14. Write a program to find the largest among three numbers without using the `max()` function.\n",
        "\n",
        "# Get input from the user\n",
        "a = float(input(\"Enter the first number: \"))\n",
        "b = float(input(\"Enter the second number: \"))\n",
        "c = float(input(\"Enter the third number: \"))\n",
        "\n",
        "# Find the largest number without using max()\n",
        "largest = a\n",
        "\n",
        "if b > largest:\n",
        "    largest = b\n",
        "\n",
        "if c > largest:\n",
        "    largest = c\n",
        "\n",
        "# Print the result\n",
        "print(f\"The largest number among {a}, {b}, and {c} is {largest}.\")\n"
      ],
      "metadata": {
        "colab": {
          "base_uri": "https://localhost:8080/"
        },
        "id": "9ENupcAh3y03",
        "outputId": "30b219d5-4f9e-406b-8e34-a511938d2cb8"
      },
      "execution_count": null,
      "outputs": [
        {
          "output_type": "stream",
          "name": "stdout",
          "text": [
            "Enter the first number: 34\n",
            "Enter the second number: 56\n",
            "Enter the third number: 78\n",
            "The largest number among 34.0, 56.0, and 78.0 is 78.0.\n"
          ]
        }
      ]
    },
    {
      "cell_type": "code",
      "source": [
        "# 15. Create a program that simulates a basic ATM transaction menu.\n",
        "\n",
        "# Initial account balance\n",
        "account_balance = 1000\n",
        "\n",
        "# Main program\n",
        "while True:\n",
        "    print(\"\\n===== ATM Menu =====\")\n",
        "    print(\"1. Check Balance\")\n",
        "    print(\"2. Withdraw Money\")\n",
        "    print(\"3. Deposit Money\")\n",
        "    print(\"4. Quit\")\n",
        "    print(\"====================\")\n",
        "\n",
        "    choice = input(\"Enter your choice (1-4): \")\n",
        "\n",
        "    if choice == '1':\n",
        "        print(f\"Your current balance: ${account_balance}\")\n",
        "    elif choice == '2':\n",
        "        amount = float(input(\"Enter the withdrawal amount: \"))\n",
        "        if amount > 0 and amount <= account_balance:\n",
        "            account_balance -= amount\n",
        "            print(f\"Withdrawal successful. Remaining balance: ${account_balance}\")\n",
        "        else:\n",
        "            print(\"Invalid withdrawal amount or insufficient funds.\")\n",
        "    elif choice == '3':\n",
        "        amount = float(input(\"Enter the deposit amount: \"))\n",
        "        if amount > 0:\n",
        "            account_balance += amount\n",
        "            print(f\"Deposit successful. New balance: ${account_balance}\")\n",
        "        else:\n",
        "            print(\"Invalid deposit amount.\")\n",
        "    elif choice == '4':\n",
        "        print(\"Thank you for using the ATM. Goodbye!\")\n",
        "        break\n",
        "    else:\n",
        "        print(\"Invalid choice. Please enter a number between 1 and 4.\")\n"
      ],
      "metadata": {
        "colab": {
          "base_uri": "https://localhost:8080/"
        },
        "id": "TyB-ZW2-4yOg",
        "outputId": "81dccb40-497e-4f93-ad92-1c3f952b671c"
      },
      "execution_count": null,
      "outputs": [
        {
          "output_type": "stream",
          "name": "stdout",
          "text": [
            "\n",
            "===== ATM Menu =====\n",
            "1. Check Balance\n",
            "2. Withdraw Money\n",
            "3. Deposit Money\n",
            "4. Quit\n",
            "====================\n",
            "Enter your choice (1-4): 3\n",
            "Enter the deposit amount: 4000\n",
            "Deposit successful. New balance: $5000.0\n",
            "\n",
            "===== ATM Menu =====\n",
            "1. Check Balance\n",
            "2. Withdraw Money\n",
            "3. Deposit Money\n",
            "4. Quit\n",
            "====================\n",
            "Enter your choice (1-4): 2\n",
            "Enter the withdrawal amount: 2000\n",
            "Withdrawal successful. Remaining balance: $3000.0\n",
            "\n",
            "===== ATM Menu =====\n",
            "1. Check Balance\n",
            "2. Withdraw Money\n",
            "3. Deposit Money\n",
            "4. Quit\n",
            "====================\n",
            "Enter your choice (1-4): 4\n",
            "Thank you for using the ATM. Goodbye!\n"
          ]
        }
      ]
    },
    {
      "cell_type": "code",
      "source": [
        "# 16. Build a program that checks if a given string is a palindrome or not.\n",
        "\n",
        "# Get input from the user\n",
        "word = input(\"Enter a word: \")\n",
        "\n",
        "# Remove spaces and convert to lowercase for case-insensitive comparison\n",
        "cleaned_word = word.replace(\" \", \"\").lower()\n",
        "\n",
        "# Check if the cleaned word is a palindrome\n",
        "if cleaned_word == cleaned_word[::-1]:\n",
        "    print(f\"{word} is a palindrome.\")\n",
        "else:\n",
        "    print(f\"{word} is not a palindrome.\")\n"
      ],
      "metadata": {
        "colab": {
          "base_uri": "https://localhost:8080/"
        },
        "id": "s9XrqopC5T6H",
        "outputId": "3e3b3a39-e96e-465d-a81f-797196acd508"
      },
      "execution_count": null,
      "outputs": [
        {
          "output_type": "stream",
          "name": "stdout",
          "text": [
            "Enter a word: malayalam\n",
            "malayalam is a palindrome.\n"
          ]
        }
      ]
    },
    {
      "cell_type": "code",
      "source": [
        "# 17. Write a program that calculates the average of a list of numbers, excluding the smallest and largest values\n",
        "\n",
        "# Get input from the user\n",
        "numbers = input(\"Enter a list of numbers separated by spaces: \")\n",
        "\n",
        "# Convert input string to a list of floats\n",
        "numbers_list = [float(num) for num in numbers.split()]\n",
        "\n",
        "# Check if there are enough numbers for calculation\n",
        "if len(numbers_list) < 3:\n",
        "    print(\"Insufficient numbers to calculate the average.\")\n",
        "else:\n",
        "    # Exclude the smallest and largest values\n",
        "    numbers_list.sort()\n",
        "    excluded_numbers = numbers_list[1:-1]\n",
        "\n",
        "    # Calculate the average\n",
        "    average = sum(excluded_numbers) / len(excluded_numbers)\n",
        "\n",
        "    # Print the result\n",
        "    print(f\"The average (excluding the smallest and largest values) is: {average:.2f}\")\n"
      ],
      "metadata": {
        "colab": {
          "base_uri": "https://localhost:8080/"
        },
        "id": "ERk07NtJ5oUc",
        "outputId": "53f059a1-76ab-4b0e-e714-0806df2b5ca2"
      },
      "execution_count": null,
      "outputs": [
        {
          "output_type": "stream",
          "name": "stdout",
          "text": [
            "Enter a list of numbers separated by spaces: 4 5 6 7\n",
            "The average (excluding the smallest and largest values) is: 5.50\n"
          ]
        }
      ]
    },
    {
      "cell_type": "code",
      "source": [
        "# 18. Develop a program that converts a given temperature from Celsius to Fahrenheit.\n",
        "\n",
        "# Get input from the user\n",
        "celsius_temperature = float(input(\"Enter the temperature in Celsius: \"))\n",
        "\n",
        "# Convert Celsius to Fahrenheit\n",
        "fahrenheit_temperature = (celsius_temperature * 9/5) + 32\n",
        "\n",
        "# Print the result\n",
        "print(f\"{celsius_temperature} degrees Celsius is equal to {fahrenheit_temperature:.2f} degrees Fahrenheit.\")\n"
      ],
      "metadata": {
        "colab": {
          "base_uri": "https://localhost:8080/"
        },
        "id": "a1Numut_6BD3",
        "outputId": "84676b19-d542-4034-9a57-5b8fc83425f8"
      },
      "execution_count": null,
      "outputs": [
        {
          "output_type": "stream",
          "name": "stdout",
          "text": [
            "Enter the temperature in Celsius: 32\n",
            "32.0 degrees Celsius is equal to 89.60 degrees Fahrenheit.\n"
          ]
        }
      ]
    },
    {
      "cell_type": "code",
      "source": [
        "# 19. Create a program that simulates a basic calculator for addition, subtraction, multiplication, and division.\n",
        "\n",
        "# Main program\n",
        "while True:\n",
        "    print(\"\\n===== Calculator Menu =====\")\n",
        "    print(\"1. Addition\")\n",
        "    print(\"2. Subtraction\")\n",
        "    print(\"3. Multiplication\")\n",
        "    print(\"4. Division\")\n",
        "    print(\"5. Quit\")\n",
        "    print(\"============================\")\n",
        "\n",
        "    choice = input(\"Enter your choice (1-5): \")\n",
        "\n",
        "    if choice == '5':\n",
        "        print(\"Thank you for using the calculator. Goodbye!\")\n",
        "        break\n",
        "\n",
        "    try:\n",
        "        num1 = float(input(\"Enter the first number: \"))\n",
        "        num2 = float(input(\"Enter the second number: \"))\n",
        "    except ValueError:\n",
        "        print(\"Invalid input. Please enter valid numbers.\")\n",
        "        continue\n",
        "\n",
        "    if choice == '1':\n",
        "        result = num1 + num2\n",
        "        print(f\"The result of {num1} + {num2} is: {result}\")\n",
        "    elif choice == '2':\n",
        "        result = num1 - num2\n",
        "        print(f\"The result of {num1} - {num2} is: {result}\")\n",
        "    elif choice == '3':\n",
        "        result = num1 * num2\n",
        "        print(f\"The result of {num1} * {num2} is: {result}\")\n",
        "    elif choice == '4':\n",
        "        if num2 != 0:\n",
        "            result = num1 / num2\n",
        "            print(f\"The result of {num1} / {num2} is: {result}\")\n",
        "        else:\n",
        "            print(\"Cannot divide by zero\")\n",
        "    else:\n",
        "        print(\"Invalid choice. Please enter a number between 1 and 5.\")\n"
      ],
      "metadata": {
        "colab": {
          "base_uri": "https://localhost:8080/"
        },
        "id": "uqvpYj5f76Sl",
        "outputId": "daaf2052-f5f4-404c-f4ff-c8399469855c"
      },
      "execution_count": null,
      "outputs": [
        {
          "output_type": "stream",
          "name": "stdout",
          "text": [
            "\n",
            "===== Calculator Menu =====\n",
            "1. Addition\n",
            "2. Subtraction\n",
            "3. Multiplication\n",
            "4. Division\n",
            "5. Quit\n",
            "============================\n",
            "Enter your choice (1-5): 1\n",
            "Enter the first number: 3\n",
            "Enter the second number: 5\n",
            "The result of 3.0 + 5.0 is: 8.0\n",
            "\n",
            "===== Calculator Menu =====\n",
            "1. Addition\n",
            "2. Subtraction\n",
            "3. Multiplication\n",
            "4. Division\n",
            "5. Quit\n",
            "============================\n",
            "Enter your choice (1-5): 5\n",
            "Thank you for using the calculator. Goodbye!\n"
          ]
        }
      ]
    },
    {
      "cell_type": "code",
      "source": [
        "# 20. Write a program that determines the roots of a cubic equation using the Cardano formula.\n",
        "\n",
        "import cmath  # Required for handling complex roots\n",
        "\n",
        "# Get input from the user\n",
        "a = float(input(\"Enter the coefficient a: \"))\n",
        "b = float(input(\"Enter the coefficient b: \"))\n",
        "c = float(input(\"Enter the coefficient c: \"))\n",
        "d = float(input(\"Enter the coefficient d: \"))\n",
        "\n",
        "# Calculate intermediate values\n",
        "p = c/a - (b**2) / (3*(a**2))\n",
        "q = (2*(b**3)) / (27*(a**3)) - (b*c) / (3*(a**2)) + d/a\n",
        "\n",
        "# Calculate discriminant of Cardano's formula\n",
        "delta = (q**2) / 4 + (p**3) / 27\n",
        "\n",
        "# Check if the discriminant is non-negative\n",
        "if delta >= 0:\n",
        "    # Calculate roots for real case\n",
        "    delta_sqrt = cmath.sqrt(delta)\n",
        "    u1 = -1 + delta_sqrt\n",
        "    u2 = -1 - delta_sqrt\n",
        "\n",
        "    y1 = u1**(1/3)\n",
        "    y2 = u2**(1/3)\n",
        "\n",
        "    root1 = -1 / (3*a) * (b + y1 + y2)\n",
        "    root2 = -1 / (3*a) * (b - (1 + 1j * cmath.sqrt(3)) * y1 + (1 - 1j * cmath.sqrt(3)) * y2)\n",
        "    root3 = -1 / (3*a) * (b - (1 - 1j * cmath.sqrt(3)) * y1 + (1 + 1j * cmath.sqrt(3)) * y2)\n",
        "\n",
        "    # Print the result\n",
        "    print(f\"The roots of the cubic equation are:\")\n",
        "    print(f\"Root 1: {root1}\")\n",
        "    print(f\"Root 2: {root2}\")\n",
        "    print(f\"Root 3: {root3}\")\n",
        "\n",
        "else:\n",
        "    # Calculate roots for complex case\n",
        "    theta = cmath.phase(-q/2 + cmath.sqrt(delta))\n",
        "    r = cmath.sqrt((-p**3) / 27)\n",
        "\n",
        "    root1 = 2 * r**(1/3) * cmath.cos(theta/3) - b / (3*a)\n",
        "    root2 = 2 * r**(1/3) * cmath.cos((theta + 2 * cmath.pi) / 3) - b / (3*a)\n",
        "    root3 = 2 * r**(1/3) * cmath.cos((theta + 4 * cmath.pi) / 3) - b / (3*a)\n",
        "\n",
        "    # Print the result\n",
        "    print(f\"The roots of the cubic equation are:\")\n",
        "    print(f\"Root 1: {root1}\")\n",
        "    print(f\"Root 2: {root2}\")\n",
        "    print(f\"Root 3: {root3}\")\n"
      ],
      "metadata": {
        "colab": {
          "base_uri": "https://localhost:8080/"
        },
        "id": "f8TqDbck8Vs5",
        "outputId": "dbb694ea-11da-4716-c71a-c2d3e78996ea"
      },
      "execution_count": null,
      "outputs": [
        {
          "output_type": "stream",
          "name": "stdout",
          "text": [
            "Enter the coefficient a: 4\n",
            "Enter the coefficient b: 6\n",
            "Enter the coefficient c: 3\n",
            "Enter the coefficient d: 8\n",
            "The roots of the cubic equation are:\n",
            "Root 1: (-0.5684795000438213-0.11860997335281366j)\n",
            "Root 2: (-0.7408471449259477+0.05728040154160845j)\n",
            "Root 3: (-0.3299701446630199-0.1799395451640189j)\n"
          ]
        }
      ]
    },
    {
      "cell_type": "code",
      "source": [
        "# 21. Create a program that calculates the income tax based on the user's income and tax brackets\n",
        "\n",
        "# Get input from the user\n",
        "income = float(input(\"Enter your annual income: \"))\n",
        "\n",
        "# Define tax brackets and rates\n",
        "tax_brackets = [0, 9875, 40125, 85525, 163300, 207350, 518400]\n",
        "tax_rates = [0.1, 0.12, 0.22, 0.24, 0.32, 0.35, 0.37]\n",
        "\n",
        "# Calculate income tax\n",
        "tax_due = 0\n",
        "for i in range(1, len(tax_brackets)):\n",
        "    if income <= tax_brackets[i]:\n",
        "        tax_due += (income - tax_brackets[i-1]) * tax_rates[i-1]\n",
        "        break\n",
        "    else:\n",
        "        tax_due += (tax_brackets[i] - tax_brackets[i-1]) * tax_rates[i-1]\n",
        "\n",
        "# Print the result\n",
        "print(f\"Your income tax due is: ${tax_due:.2f}\")\n"
      ],
      "metadata": {
        "id": "symJ86Uk86ZO",
        "colab": {
          "base_uri": "https://localhost:8080/"
        },
        "outputId": "4afaddc8-d35f-454c-fc77-00912f7684d2"
      },
      "execution_count": null,
      "outputs": [
        {
          "output_type": "stream",
          "name": "stdout",
          "text": [
            "Enter your annual income: 236000\n",
            "Your income tax due is: $57395.00\n"
          ]
        }
      ]
    },
    {
      "cell_type": "code",
      "source": [
        "# 22. Write a program that simulates a rock-paper-scissors game against the computer\n",
        "\n",
        "import random\n",
        "\n",
        "while True:\n",
        "    print(\"Choose one: Rock, Paper, or Scissors\")\n",
        "    user_choice = input(\"Your choice: \").capitalize()\n",
        "\n",
        "    choices = [\"Rock\", \"Paper\", \"Scissors\"]\n",
        "    computer_choice = random.choice(choices)\n",
        "\n",
        "    print(\"\\nYou chose:\", user_choice)\n",
        "    print(\"Computer chose:\", computer_choice)\n",
        "\n",
        "    if user_choice == computer_choice:\n",
        "        print(\"It's a tie!\")\n",
        "    elif (\n",
        "        (user_choice == \"Rock\" and computer_choice == \"Scissors\") or\n",
        "        (user_choice == \"Paper\" and computer_choice == \"Rock\") or\n",
        "        (user_choice == \"Scissors\" and computer_choice == \"Paper\")\n",
        "    ):\n",
        "        print(\"You win!\")\n",
        "    else:\n",
        "        print(\"Computer wins!\")\n",
        "\n",
        "    play_again = input(\"Do you want to play again? (yes/no): \").lower()\n",
        "    if play_again != 'yes':\n",
        "        print(\"Thank you for playing. Goodbye!\")\n",
        "        break\n"
      ],
      "metadata": {
        "id": "qMByqAQuO8vw",
        "colab": {
          "base_uri": "https://localhost:8080/"
        },
        "outputId": "f9b0dbaa-c97f-4d19-cfc7-8d72ff37dd84"
      },
      "execution_count": null,
      "outputs": [
        {
          "output_type": "stream",
          "name": "stdout",
          "text": [
            "Choose one: Rock, Paper, or Scissors\n",
            "Your choice: rock\n",
            "\n",
            "You chose: Rock\n",
            "Computer chose: Scissors\n",
            "You win!\n",
            "Do you want to play again? (yes/no): no\n",
            "Thank you for playing. Goodbye!\n"
          ]
        }
      ]
    },
    {
      "cell_type": "code",
      "source": [
        "# 23. Develop a program that generates a random password based on user preferences (length, complexity)\n",
        "\n",
        "import random\n",
        "import string\n",
        "\n",
        "# Get user preferences\n",
        "length = int(input(\"Enter the desired password length: \"))\n",
        "include_uppercase = input(\"Include uppercase letters? (yes/no): \").lower() == 'yes'\n",
        "include_digits = input(\"Include digits? (yes/no): \").lower() == 'yes'\n",
        "include_special_chars = input(\"Include special characters? (yes/no): \").lower() == 'yes'\n",
        "\n",
        "# Define character sets based on user preferences\n",
        "chars = string.ascii_lowercase\n",
        "if include_uppercase:\n",
        "    chars += string.ascii_uppercase\n",
        "if include_digits:\n",
        "    chars += string.digits\n",
        "if include_special_chars:\n",
        "    chars += string.punctuation\n",
        "\n",
        "if length < 1:\n",
        "    print(\"Password length must be at least 1.\")\n",
        "else:\n",
        "    # Generate and print the password\n",
        "    password = ''.join(random.choice(chars) for _ in range(length))@\n",
        "    print(f\"Generated Password: {password}\")\n"
      ],
      "metadata": {
        "colab": {
          "base_uri": "https://localhost:8080/"
        },
        "id": "NVwMX0-YEVbk",
        "outputId": "f6e331b2-ae3b-45b5-ffc2-2329742d5100"
      },
      "execution_count": null,
      "outputs": [
        {
          "output_type": "stream",
          "name": "stdout",
          "text": [
            "Enter the desired password length: 7\n",
            "Include uppercase letters? (yes/no): KP\n",
            "Include digits? (yes/no): 567\n",
            "Include special characters? (yes/no): @#\n",
            "Generated Password: ksifwsg\n"
          ]
        }
      ]
    },
    {
      "cell_type": "code",
      "source": [
        "# 24. Create a program that implements a simple text-based adventure game with branching scenarios\n",
        "\n",
        "import time\n",
        "\n",
        "print(\"Welcome to the Adventure Game!\")\n",
        "time.sleep(1)\n",
        "print(\"You find yourself in a mysterious forest.\")\n",
        "time.sleep(1)\n",
        "print(\"Your goal is to navigate through the forest and reach the treasure.\")\n",
        "time.sleep(1)\n",
        "\n",
        "# Forest Scenario\n",
        "print(\"\\nYou enter the dense forest.\")\n",
        "time.sleep(1)\n",
        "print(\"To your left, you see a narrow path. To your right, you hear a waterfall.\")\n",
        "time.sleep(1)\n",
        "\n",
        "# Player makes a choice\n",
        "while True:\n",
        "    print(\"\\nChoose your action:\")\n",
        "    print(\"1. Take the narrow path.\")\n",
        "    print(\"2. Follow the sound of the waterfall.\")\n",
        "\n",
        "    choice = input(\"Enter the number of your choice: \")\n",
        "\n",
        "    if choice == '1':\n",
        "        print(\"\\nYou follow the narrow path.\")\n",
        "        time.sleep(1)\n",
        "        print(\"You encounter a friendly squirrel.\")\n",
        "        time.sleep(1)\n",
        "        print(\"The squirrel guides you to a hidden bridge.\")\n",
        "        break\n",
        "    elif choice == '2':\n",
        "        print(\"\\nYou follow the sound of the waterfall.\")\n",
        "        time.sleep(1)\n",
        "        print(\"You discover a beautiful lake with a boat.\")\n",
        "        time.sleep(1)\n",
        "        print(\"You take the boat and sail to the other side.\")\n",
        "        break\n",
        "    else:\n",
        "        print(\"Invalid choice. Please enter 1 or 2.\")\n",
        "\n",
        "# Bridge Scenario\n",
        "print(\"\\nYou reach the hidden bridge.\")\n",
        "time.sleep(1)\n",
        "print(\"You notice a troll guarding the bridge.\")\n",
        "time.sleep(1)\n",
        "\n",
        "# Player makes a choice\n",
        "while True:\n",
        "    print(\"\\nChoose your action:\")\n",
        "    print(\"1. Attempt to cross the bridge quietly.\")\n",
        "    print(\"2. Challenge the troll to a riddle contest.\")\n",
        "\n",
        "    choice = input(\"Enter the number of your choice: \")\n",
        "\n",
        "    if choice == '1':\n",
        "        print(\"\\nYou attempt to cross the bridge quietly.\")\n",
        "        time.sleep(1)\n",
        "        print(\"Success! The troll doesn't notice you, and you cross the bridge.\")\n",
        "        break\n",
        "    elif choice == '2':\n",
        "        print(\"\\nYou challenge the troll to a riddle contest.\")\n",
        "        time.sleep(1)\n",
        "        print(\"The troll enjoys the challenge and lets you pass.\")\n",
        "        break\n",
        "    else:\n",
        "        print(\"Invalid choice. Please enter 1 or 2.\")\n",
        "\n",
        "# Treasure Scenario\n",
        "print(\"\\nCongratulations! You reach the hidden treasure.\")\n",
        "time.sleep(1)\n",
        "print(\"You are victorious!\")\n"
      ],
      "metadata": {
        "colab": {
          "base_uri": "https://localhost:8080/"
        },
        "id": "DE717wAgGCxd",
        "outputId": "03b4595b-98d9-4408-c7a0-32b617996566"
      },
      "execution_count": null,
      "outputs": [
        {
          "output_type": "stream",
          "name": "stdout",
          "text": [
            "Welcome to the Adventure Game!\n",
            "You find yourself in a mysterious forest.\n",
            "Your goal is to navigate through the forest and reach the treasure.\n",
            "\n",
            "You enter the dense forest.\n",
            "To your left, you see a narrow path. To your right, you hear a waterfall.\n",
            "\n",
            "Choose your action:\n",
            "1. Take the narrow path.\n",
            "2. Follow the sound of the waterfall.\n",
            "Enter the number of your choice: 1\n",
            "\n",
            "You follow the narrow path.\n",
            "You encounter a friendly squirrel.\n",
            "The squirrel guides you to a hidden bridge.\n",
            "\n",
            "You reach the hidden bridge.\n",
            "You notice a troll guarding the bridge.\n",
            "\n",
            "Choose your action:\n",
            "1. Attempt to cross the bridge quietly.\n",
            "2. Challenge the troll to a riddle contest.\n",
            "Enter the number of your choice: 1\n",
            "\n",
            "You attempt to cross the bridge quietly.\n",
            "Success! The troll doesn't notice you, and you cross the bridge.\n",
            "\n",
            "Congratulations! You reach the hidden treasure.\n",
            "You are victorious!\n"
          ]
        }
      ]
    },
    {
      "cell_type": "code",
      "source": [
        "# 25. Build a program that solves a linear equation  for x, considering different cases.\n",
        "\n",
        "# Get input coefficients from the user\n",
        "a = float(input(\"Enter the coefficient a: \"))\n",
        "b = float(input(\"Enter the coefficient b: \"))\n",
        "\n",
        "# Solve the linear equation\n",
        "if a == 0:\n",
        "    if b == 0:\n",
        "        print(\"Infinite solutions (any value of x is a solution).\")\n",
        "    else:\n",
        "        print(\"No solution (the equation is inconsistent).\")\n",
        "else:\n",
        "    x = -b / a\n",
        "    print(f\"The solution for x is: {x}\")\n"
      ],
      "metadata": {
        "colab": {
          "base_uri": "https://localhost:8080/"
        },
        "id": "gnGdRGyqItRd",
        "outputId": "28c5eaaf-8aea-413b-ad88-95985e3f7d75"
      },
      "execution_count": null,
      "outputs": [
        {
          "output_type": "stream",
          "name": "stdout",
          "text": [
            "Enter the coefficient a: 3\n",
            "Enter the coefficient b: 6\n",
            "The solution for x is: -2.0\n"
          ]
        }
      ]
    },
    {
      "cell_type": "code",
      "source": [
        "# 26. Write a program that simulates a basic quiz game with multiple-choice questions and scoring.\n",
        "\n",
        "import random\n",
        "\n",
        "questions = [\n",
        "    {\n",
        "        \"question\": \"What is the capital of France?\",\n",
        "        \"options\": [\"A. London\", \"B. Paris\", \"C. Berlin\", \"D. Rome\"],\n",
        "        \"correct_answer\": \"B\"\n",
        "    },\n",
        "    {\n",
        "        \"question\": \"Which planet is known as the Red Planet?\",\n",
        "        \"options\": [\"A. Mars\", \"B. Jupiter\", \"C. Venus\", \"D. Saturn\"],\n",
        "        \"correct_answer\": \"A\"\n",
        "    },\n",
        "    {\n",
        "        \"question\": \"What is the largest mammal in the world?\",\n",
        "        \"options\": [\"A. Elephant\", \"B. Blue Whale\", \"C. Giraffe\", \"D. Gorilla\"],\n",
        "        \"correct_answer\": \"B\"\n",
        "    }\n",
        "]\n",
        "\n",
        "print(\"Welcome to the Quiz Game!\")\n",
        "\n",
        "score = 0\n",
        "random.shuffle(questions)\n",
        "\n",
        "for question in questions:\n",
        "    print(question[\"question\"])\n",
        "    for option in question[\"options\"]:\n",
        "        print(option)\n",
        "    user_answer = input(\"Your answer: \").upper()\n",
        "\n",
        "    if user_answer == question[\"correct_answer\"]:\n",
        "        print(\"Correct!\\n\")\n",
        "        score += 1\n",
        "    else:\n",
        "        print(f\"Wrong! The correct answer is {question['correct_answer']}.\\n\")\n",
        "\n",
        "print(f\"Quiz completed! Your score: {score}/{len(questions)}\")\n"
      ],
      "metadata": {
        "colab": {
          "base_uri": "https://localhost:8080/"
        },
        "id": "GgV0yWDyJVvr",
        "outputId": "50a2c11d-1b1b-4d97-979e-ddb5c075bbdb"
      },
      "execution_count": null,
      "outputs": [
        {
          "output_type": "stream",
          "name": "stdout",
          "text": [
            "Welcome to the Quiz Game!\n",
            "What is the capital of France?\n",
            "A. London\n",
            "B. Paris\n",
            "C. Berlin\n",
            "D. Rome\n",
            "Your answer: b\n",
            "Correct!\n",
            "\n",
            "What is the largest mammal in the world?\n",
            "A. Elephant\n",
            "B. Blue Whale\n",
            "C. Giraffe\n",
            "D. Gorilla\n",
            "Your answer: b\n",
            "Correct!\n",
            "\n",
            "Which planet is known as the Red Planet?\n",
            "A. Mars\n",
            "B. Jupiter\n",
            "C. Venus\n",
            "D. Saturn\n",
            "Your answer: a\n",
            "Correct!\n",
            "\n",
            "Quiz completed! Your score: 3/3\n"
          ]
        }
      ]
    },
    {
      "cell_type": "code",
      "source": [
        "# 27. Develop a program that determines whether a given year is a prime number or not\n",
        "\n",
        "year = int(input(\"Enter a year: \"))\n",
        "\n",
        "# Check if the year is a prime number\n",
        "if year > 1:\n",
        "    for i in range(2, int(year**0.5) + 1):\n",
        "        if year % i == 0:\n",
        "            print(f\"{year} is not a prime number.\")\n",
        "            break\n",
        "    else:\n",
        "        print(f\"{year} is a prime number.\")\n",
        "else:\n",
        "    print(f\"{year} is not a prime number.\")\n",
        "\n"
      ],
      "metadata": {
        "colab": {
          "base_uri": "https://localhost:8080/"
        },
        "id": "dz8HaMDUKnix",
        "outputId": "551ff8ce-660e-45ee-d845-3d7e86e175a9"
      },
      "execution_count": null,
      "outputs": [
        {
          "output_type": "stream",
          "name": "stdout",
          "text": [
            "Enter a year: 2020\n",
            "2020 is not a prime number.\n"
          ]
        }
      ]
    },
    {
      "cell_type": "code",
      "source": [
        "# 28. Create a program that sorts three numbers in ascending order using conditional statements\n",
        "\n",
        "# Get input from the user\n",
        "a = float(input(\"Enter the first number: \"))\n",
        "b = float(input(\"Enter the second number: \"))\n",
        "c = float(input(\"Enter the third number: \"))\n",
        "\n",
        "# Sort the numbers in ascending order\n",
        "if a <= b <= c:\n",
        "    sorted_numbers = (a, b, c)\n",
        "elif a <= c <= b:\n",
        "    sorted_numbers = (a, c, b)\n",
        "elif b <= a <= c:\n",
        "    sorted_numbers = (b, a, c)\n",
        "elif b <= c <= a:\n",
        "    sorted_numbers = (b, c, a)\n",
        "elif c <= a <= b:\n",
        "    sorted_numbers = (c, a, b)\n",
        "else:\n",
        "    sorted_numbers = (c, b, a)\n",
        "\n",
        "# Print the sorted numbers\n",
        "print(f\"The numbers in ascending order are: {sorted_numbers}\")\n"
      ],
      "metadata": {
        "colab": {
          "base_uri": "https://localhost:8080/"
        },
        "id": "xXRbbsvULEgl",
        "outputId": "9530d5d2-3d05-48c2-84e3-b74ac711562f"
      },
      "execution_count": null,
      "outputs": [
        {
          "output_type": "stream",
          "name": "stdout",
          "text": [
            "Enter the first number: 3\n",
            "Enter the second number: 5\n",
            "Enter the third number: 2\n",
            "The numbers in ascending order are: (2.0, 3.0, 5.0)\n"
          ]
        }
      ]
    },
    {
      "cell_type": "code",
      "source": [
        "# 29. Build a program that determines the roots of a quartic equation using numerical methods.\n",
        "\n",
        "# Example coefficients for the quartic equation: ax^4 + bx^3 + cx^2 + dx + e = 0\n",
        "coefficients = [1, -10, 35, -50, 24]\n",
        "\n",
        "# Initial guess for the root\n",
        "x = 1.0\n",
        "\n",
        "# Newton-Raphson method\n",
        "for _ in range(100):\n",
        "    f_x = sum(coeff * x**i for i, coeff in enumerate(coefficients))\n",
        "    f_prime_x = sum((i + 1) * coeff * x**i for i, coeff in enumerate(coefficients[1:]))\n",
        "\n",
        "    x = x - f_x / f_prime_x\n",
        "\n",
        "    if abs(f_x) < 1e-6:\n",
        "        print(f\"Approximate root of the quartic equation: {x:.6f}\")\n",
        "        break\n",
        "else:\n",
        "    print(\"The Newton-Raphson method did not converge.\")\n"
      ],
      "metadata": {
        "colab": {
          "base_uri": "https://localhost:8080/"
        },
        "id": "qDN7oV2BLbqQ",
        "outputId": "e1b9d4ed-0498-4cc4-95dd-f41526f3ea18"
      },
      "execution_count": null,
      "outputs": [
        {
          "output_type": "stream",
          "name": "stdout",
          "text": [
            "Approximate root of the quartic equation: 1.000000\n"
          ]
        }
      ]
    },
    {
      "cell_type": "code",
      "source": [
        "# 30. Write a program that calculates the BMI (Body Mass Index) and provides health recommendations based\n",
        "# on the user's input.\n",
        "\n",
        "# Get input from the user\n",
        "weight_kg = float(input(\"Enter your weight in kilograms: \"))\n",
        "height_m = float(input(\"Enter your height in meters: \"))\n",
        "\n",
        "# Calculate BMI\n",
        "bmi = weight_kg / (height_m ** 2)\n",
        "\n",
        "# Provide health recommendations based on BMI\n",
        "print(f\"Your BMI is: {bmi:.2f}\")\n",
        "\n",
        "if bmi < 18.5:\n",
        "    print(\"Underweight: You may want to gain some weight.\")\n",
        "elif 18.5 <= bmi < 24.9:\n",
        "    print(\"Normal weight: Keep up the good work!\")\n",
        "elif 25 <= bmi < 29.9:\n",
        "    print(\"Overweight: Consider losing some weight for better health.\")\n",
        "else:\n",
        "    print(\"Obese: It's recommended to consult with a healthcare professional for advice.\")\n",
        "\n"
      ],
      "metadata": {
        "colab": {
          "base_uri": "https://localhost:8080/"
        },
        "id": "swbp9YfRMlAQ",
        "outputId": "87ed257e-cabf-4279-ea41-d13f1165d5bb"
      },
      "execution_count": null,
      "outputs": [
        {
          "output_type": "stream",
          "name": "stdout",
          "text": [
            "Enter your weight in kilograms: 65\n",
            "Enter your height in meters: 1.60\n",
            "Your BMI is: 25.39\n",
            "Overweight: Consider losing some weight for better health.\n"
          ]
        }
      ]
    },
    {
      "cell_type": "code",
      "source": [
        "# 31. Create a program that validates a password based on complexity rules (length, characters, etc.)\n",
        "\n",
        "# Define complexity rules\n",
        "min_length = 8\n",
        "\n",
        "# Get input from the user\n",
        "password = input(\"Enter your password: \")\n",
        "\n",
        "# Check if password meets complexity rules\n",
        "if len(password) < min_length:\n",
        "    print(\"Password is too short. It must be at least 8 characters long.\")\n",
        "elif not any(char.isupper() for char in password):\n",
        "    print(\"Password must contain at least one uppercase letter.\")\n",
        "elif not any(char.islower() for char in password):\n",
        "    print(\"Password must contain at least one lowercase letter.\")\n",
        "elif not any(char.isdigit() for char in password):\n",
        "    print(\"Password must contain at least one digit.\")\n",
        "elif not any(char in \"!@#$%^&*()-_=+[]{}|;:'<>,.?/\" for char in password):\n",
        "    print(\"Password must contain at least one special character (!@#$%^&*()-_=+[]{}|;:'<>,.?/).\")\n",
        "else:\n",
        "    print(\"Password is valid.\")\n"
      ],
      "metadata": {
        "colab": {
          "base_uri": "https://localhost:8080/"
        },
        "id": "jI16SJXLMwmE",
        "outputId": "dd460191-3924-473d-fcf9-c051de62a99e"
      },
      "execution_count": null,
      "outputs": [
        {
          "output_type": "stream",
          "name": "stdout",
          "text": [
            "Enter your password: Bdser@47\n",
            "Password is valid.\n"
          ]
        }
      ]
    },
    {
      "cell_type": "code",
      "source": [
        "# 32. Develop a program that performs matrix addition and subtraction based on user input\n",
        "\n",
        "# Get input for matrix sizes\n",
        "rows = int(input(\"Enter the number of rows for the matrices: \"))\n",
        "cols = int(input(\"Enter the number of columns for the matrices: \"))\n",
        "\n",
        "# Get input for the first matrix\n",
        "print(\"Enter elements for the first matrix:\")\n",
        "matrix1 = [[float(input(f\"Enter element at position ({i+1}, {j+1}): \")) for j in range(cols)] for i in range(rows)]\n",
        "\n",
        "# Get input for the second matrix\n",
        "print(\"Enter elements for the second matrix:\")\n",
        "matrix2 = [[float(input(f\"Enter element at position ({i+1}, {j+1}): \")) for j in range(cols)] for i in range(rows)]\n",
        "\n",
        "# Perform matrix addition\n",
        "result_addition = [[matrix1[i][j] + matrix2[i][j] for j in range(cols)] for i in range(rows)]\n",
        "\n",
        "# Perform matrix subtraction\n",
        "result_subtraction = [[matrix1[i][j] - matrix2[i][j] for j in range(cols)] for i in range(rows)]\n",
        "\n",
        "# Display results\n",
        "print(\"\\nMatrix Addition:\")\n",
        "for row in result_addition:\n",
        "    print(row)\n",
        "\n",
        "print(\"\\nMatrix Subtraction:\")\n",
        "for row in result_subtraction:\n",
        "    print(row)\n"
      ],
      "metadata": {
        "colab": {
          "base_uri": "https://localhost:8080/"
        },
        "id": "zUJUsYkSNcAt",
        "outputId": "2e2dff8f-3023-458d-e4ea-884122f38b83"
      },
      "execution_count": null,
      "outputs": [
        {
          "output_type": "stream",
          "name": "stdout",
          "text": [
            "Enter the number of rows for the matrices: 2\n",
            "Enter the number of columns for the matrices: 2\n",
            "Enter elements for the first matrix:\n",
            "Enter element at position (1, 1): 1\n",
            "Enter element at position (1, 2): 2\n",
            "Enter element at position (2, 1): 3\n",
            "Enter element at position (2, 2): 4\n",
            "Enter elements for the second matrix:\n",
            "Enter element at position (1, 1): 5\n",
            "Enter element at position (1, 2): 6\n",
            "Enter element at position (2, 1): 7\n",
            "Enter element at position (2, 2): 8\n",
            "\n",
            "Matrix Addition:\n",
            "[6.0, 8.0]\n",
            "[10.0, 12.0]\n",
            "\n",
            "Matrix Subtraction:\n",
            "[-4.0, -4.0]\n",
            "[-4.0, -4.0]\n"
          ]
        }
      ]
    },
    {
      "cell_type": "code",
      "source": [
        "# 33. Write a program that calculates the greatest common divisor (GCD) of two numbers using the Euclidean\n",
        "# algorithm\n",
        "\n",
        "# Get input from the user\n",
        "num1 = int(input(\"Enter the first number: \"))\n",
        "num2 = int(input(\"Enter the second number: \"))\n",
        "\n",
        "# Euclidean algorithm for calculating GCD\n",
        "while num2:\n",
        "    num1, num2 = num2, num1 % num2\n",
        "\n",
        "# Display the GCD\n",
        "print(f\"The GCD of the entered numbers is: {num1}\")\n"
      ],
      "metadata": {
        "colab": {
          "base_uri": "https://localhost:8080/"
        },
        "id": "Xo968igBOaoC",
        "outputId": "0c354d6d-2b57-46f5-d8b4-9de1185a79bf"
      },
      "execution_count": null,
      "outputs": [
        {
          "output_type": "stream",
          "name": "stdout",
          "text": [
            "Enter the first number: 6\n",
            "Enter the second number: 9\n",
            "The GCD of the entered numbers is: 3\n"
          ]
        }
      ]
    },
    {
      "cell_type": "code",
      "source": [
        "# 34. Build a program that performs matrix multiplication using nested loops and conditional statements.\n",
        "\n",
        "# Get input for matrix sizes\n",
        "rows1 = int(input(\"Enter the number of rows for the first matrix: \"))\n",
        "cols1 = int(input(\"Enter the number of columns for the first matrix: \"))\n",
        "\n",
        "rows2 = int(input(\"Enter the number of rows for the second matrix: \"))\n",
        "cols2 = int(input(\"Enter the number of columns for the second matrix: \"))\n",
        "\n",
        "# Check if matrices can be multiplied\n",
        "if cols1 != rows2:\n",
        "    print(\"Error: Matrices cannot be multiplied. Number of columns in the first matrix must be equal to the number of rows in the second matrix.\")\n",
        "else:\n",
        "    # Get input for the first matrix\n",
        "    print(\"Enter elements for the first matrix:\")\n",
        "    matrix1 = [[float(input(f\"Enter element at position ({i+1}, {j+1}): \")) for j in range(cols1)] for i in range(rows1)]\n",
        "\n",
        "    # Get input for the second matrix\n",
        "    print(\"Enter elements for the second matrix:\")\n",
        "    matrix2 = [[float(input(f\"Enter element at position ({i+1}, {j+1}): \")) for j in range(cols2)] for i in range(rows2)]\n",
        "\n",
        "    # Perform matrix multiplication\n",
        "    result_matrix = [[0 for _ in range(cols2)] for _ in range(rows1)]\n",
        "\n",
        "    for i in range(rows1):\n",
        "        for j in range(cols2):\n",
        "            for k in range(cols1):\n",
        "                result_matrix[i][j] += matrix1[i][k] * matrix2[k][j]\n",
        "\n",
        "    # Display the result matrix\n",
        "    print(\"\\nMatrix Multiplication Result:\")\n",
        "    for row in result_matrix:\n",
        "        print(row)\n"
      ],
      "metadata": {
        "id": "oBNlvVtIQEtW",
        "colab": {
          "base_uri": "https://localhost:8080/"
        },
        "outputId": "d5c5cb54-c95e-4a4a-bb8d-64a333dd2260"
      },
      "execution_count": null,
      "outputs": [
        {
          "name": "stdout",
          "output_type": "stream",
          "text": [
            "Enter elements for the first matrix:\n",
            "Enter elements for the second matrix:\n",
            "Enter element at position (1, 1): 2\n"
          ]
        }
      ]
    },
    {
      "cell_type": "code",
      "source": [
        "# 35. Create a program that simulates a basic text-based tic-tac-toe game against the computer\n",
        "\n",
        "import random\n",
        "\n",
        "# Initialize the tic-tac-toe board\n",
        "board = [[' ' for _ in range(3)] for _ in range(3)]\n",
        "\n",
        "# Function to print the tic-tac-toe board\n",
        "def print_board():\n",
        "    for row in board:\n",
        "        print(\" | \".join(row))\n",
        "        print(\"-\" * 9)\n",
        "\n",
        "# Function to check if a player has won\n",
        "def check_winner(player):\n",
        "    # Check rows, columns, and diagonals for a win\n",
        "    for i in range(3):\n",
        "        if all(board[i][j] == player for j in range(3)) or all(board[j][i] == player for j in range(3)):\n",
        "            return True\n",
        "    if all(board[i][i] == player for i in range(3)) or all(board[i][2 - i] == player for i in range(3)):\n",
        "        return True\n",
        "    return False\n",
        "\n",
        "# Function to check if the board is full\n",
        "def is_board_full():\n",
        "    return all(all(cell != ' ' for cell in row) for row in board)\n",
        "\n",
        "# Main game loop\n",
        "players = ['X', 'O']\n",
        "current_player = random.choice(players)\n",
        "\n",
        "print(\"Welcome to Tic-Tac-Toe!\")\n",
        "\n",
        "while True:\n",
        "    # Print the current board\n",
        "    print_board()\n",
        "\n",
        "    if current_player == 'X':\n",
        "        # Player's move\n",
        "        while True:\n",
        "            try:\n",
        "                row = int(input(\"Enter the row (1, 2, or 3): \")) - 1\n",
        "                col = int(input(\"Enter the column (1, 2, or 3): \")) - 1\n",
        "\n",
        "                if 0 <= row < 3 and 0 <= col < 3 and board[row][col] == ' ':\n",
        "                    board[row][col] = current_player\n",
        "                    break\n",
        "                else:\n",
        "                    print(\"Invalid move. Try again.\")\n",
        "            except ValueError:\n",
        "                print(\"Invalid input. Enter a number.\")\n",
        "    else:\n",
        "        # Computer's move\n",
        "        print(\"Computer's move:\")\n",
        "        empty_cells = [(i, j) for i in range(3) for j in range(3) if board[i][j] == ' ']\n",
        "        row, col = random.choice(empty_cells)\n",
        "        board[row][col] = current_player\n",
        "\n",
        "    # Check for a winner or a tie\n",
        "    if check_winner(current_player):\n",
        "        print_board()\n",
        "        print(f\"{current_player} wins!\")\n",
        "        break\n",
        "    elif is_board_full():\n",
        "        print_board()\n",
        "        print(\"It's a tie!\")\n",
        "        break\n",
        "\n",
        "    # Switch to the other player\n",
        "    current_player = 'O' if current_player == 'X' else 'X'\n"
      ],
      "metadata": {
        "id": "Cz4SWASATcZU"
      },
      "execution_count": null,
      "outputs": []
    },
    {
      "cell_type": "code",
      "source": [
        "# 36. Write a program that generates Fibonacci numbers up to a specified term using iterative methods\n",
        "\n",
        "# Function to generate Fibonacci numbers iteratively\n",
        "def generate_fibonacci(n):\n",
        "    fibonacci_sequence = [0, 1]\n",
        "\n",
        "    for i in range(2, n):\n",
        "        next_fibonacci = fibonacci_sequence[i-1] + fibonacci_sequence[i-2]\n",
        "        fibonacci_sequence.append(next_fibonacci)\n",
        "\n",
        "    return fibonacci_sequence\n",
        "\n",
        "# Get input from the user\n",
        "term = int(input(\"Enter the number of Fibonacci terms to generate: \"))\n",
        "\n",
        "# Generate and display Fibonacci numbers\n",
        "fibonacci_numbers = generate_fibonacci(term)\n",
        "print(f\"Fibonacci numbers up to term {term}: {fibonacci_numbers}\")\n"
      ],
      "metadata": {
        "id": "H1GeKWNiVO1Z"
      },
      "execution_count": null,
      "outputs": []
    },
    {
      "cell_type": "code",
      "source": [
        "# 37. Develop a program that calculates the nth term of the Fibonacci sequence using memoization\n",
        "\n",
        "# Function with memoization to calculate Fibonacci numbers\n",
        "def fibonacci(n, memo={}):\n",
        "    if n <= 1:\n",
        "        return n\n",
        "    elif n not in memo:\n",
        "        memo[n] = fibonacci(n-1, memo) + fibonacci(n-2, memo)\n",
        "    return memo[n]\n",
        "\n",
        "# Get input from the user\n",
        "term = int(input(\"Enter the value of n to calculate the nth term of the Fibonacci sequence: \"))\n",
        "\n",
        "# Calculate and display the nth term using memoization\n",
        "result = fibonacci(term)\n",
        "print(f\"The {term}th term of the Fibonacci sequence is: {result}\")\n"
      ],
      "metadata": {
        "id": "LlbEo4cNWR6f"
      },
      "execution_count": null,
      "outputs": []
    },
    {
      "cell_type": "code",
      "source": [
        "# 38. Create a program that generates a calendar for a given month and year using conditional statements\n",
        "\n",
        "import calendar\n",
        "\n",
        "# Get input from the user\n",
        "year = int(input(\"Enter the year: \"))\n",
        "month = int(input(\"Enter the month (1-12): \"))\n",
        "\n",
        "# Validate input\n",
        "if not (1 <= month <= 12):\n",
        "    print(\"Invalid month. Please enter a month between 1 and 12.\")\n",
        "else:\n",
        "    # Generate and display the calendar\n",
        "    cal = calendar.month(year, month)\n",
        "    print(f\"Calendar for {calendar.month_name[month]} {year}:\\n\")\n",
        "    print(cal)\n"
      ],
      "metadata": {
        "id": "Z7tyz6bWWrfm"
      },
      "execution_count": null,
      "outputs": []
    },
    {
      "cell_type": "code",
      "source": [
        "# 39. Build a program that simulates a basic text-based blackjack game against the computer.\n",
        "\n",
        "import random\n",
        "\n",
        "# Deal a card\n",
        "def deal_card():\n",
        "    \"\"\"Return a random card from the deck.\"\"\"\n",
        "    cards = [11, 2, 3, 4, 5, 6, 7, 8, 9, 10, 10, 10, 10]\n",
        "    return random.choice(cards)\n",
        "\n",
        "# Calculate the score of a hand of cards\n",
        "def calculate_score(cards):\n",
        "    \"\"\"Calculate the total score of a hand of cards.\"\"\"\n",
        "    if sum(cards) == 21 and len(cards) == 2:\n",
        "        return 0  # Blackjack\n",
        "    if 11 in cards and sum(cards) > 21:\n",
        "        cards.remove(11)\n",
        "        cards.append(1)\n",
        "    return sum(cards)\n",
        "\n",
        "# Compare scores and determine the winner\n",
        "def compare(user_score, computer_score):\n",
        "    \"\"\"Compare the scores and determine the winner.\"\"\"\n",
        "    if user_score == computer_score:\n",
        "        return \"It's a draw!\"\n",
        "    elif computer_score == 0:\n",
        "        return \"Computer has Blackjack! You lose.\"\n",
        "    elif user_score == 0:\n",
        "        return \"Blackjack! You win!\"\n",
        "    elif user_score > 21:\n",
        "        return \"You went over. You lose.\"\n",
        "    elif computer_score > 21:\n",
        "        return \"Computer went over. You win!\"\n",
        "    elif user_score > computer_score:\n",
        "        return \"You win!\"\n",
        "    else:\n",
        "        return \"You lose.\"\n",
        "\n",
        "# Start the game\n",
        "user_cards = []\n",
        "computer_cards = []\n",
        "game_over = False\n",
        "\n",
        "# Initial deal\n",
        "for _ in range(2):\n",
        "    user_cards.append(deal_card())\n",
        "    computer_cards.append(deal_card())\n",
        "\n",
        "while not game_over:\n",
        "    user_score = calculate_score(user_cards)\n",
        "    computer_score = calculate_score(computer_cards)\n",
        "\n",
        "    print(f\"Your cards: {user_cards}, current score: {user_score}\")\n",
        "    print(f\"Computer's first card: {computer_cards[0]}\")\n",
        "\n",
        "    if user_score == 0 or computer_score == 0 or user_score > 21:\n",
        "        game_over = True\n",
        "    else:\n",
        "        should_continue = input(\"Type 'y' to get another card, 'n' to pass: \")\n",
        "        if should_continue == 'y':\n",
        "            user_cards.append(deal_card())\n",
        "        else:\n",
        "            game_over = True\n",
        "\n",
        "while computer_score != 0 and computer_score < 17:\n",
        "    computer_cards.append(deal_card())\n",
        "    computer_score = calculate_score(computer_cards)\n",
        "\n",
        "print(f\"Your final hand: {user_cards}, final score: {user_score}\")\n",
        "print(f\"Computer's final hand: {computer_cards}, final score: {computer_score}\")\n",
        "print(compare(user_score, computer_score))\n"
      ],
      "metadata": {
        "id": "s_zEP-M3XwwZ"
      },
      "execution_count": null,
      "outputs": []
    },
    {
      "cell_type": "code",
      "source": [
        "# 40. Write a program that generates the prime factors of a given number using trial division\n",
        "\n",
        "def generate_prime_factors(number):\n",
        "    factors = []\n",
        "    divisor = 2\n",
        "\n",
        "    while number > 1:\n",
        "        while number % divisor == 0:\n",
        "            factors.append(divisor)\n",
        "            number //= divisor\n",
        "        divisor += 1\n",
        "\n",
        "    return factors\n",
        "\n",
        "# Get input from the user\n",
        "num = int(input(\"Enter a number to find its prime factors: \"))\n",
        "\n",
        "# Generate and display prime factors\n",
        "prime_factors = generate_prime_factors(num)\n",
        "if prime_factors:\n",
        "    print(f\"Prime factors of {num}: {prime_factors}\")\n",
        "else:\n",
        "    print(f\"{num} has no prime factors other than 1.\")\n"
      ],
      "metadata": {
        "id": "HkSh78dSYMBY"
      },
      "execution_count": null,
      "outputs": []
    },
    {
      "cell_type": "code",
      "source": [
        "2"
      ],
      "metadata": {
        "id": "-1TO8nZ0Z3Lz"
      },
      "execution_count": null,
      "outputs": []
    }
  ]
}